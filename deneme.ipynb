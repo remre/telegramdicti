{
 "cells": [
  {
   "cell_type": "markdown",
   "metadata": {},
   "source": [
    "# Telegram Dictionary And Easy Practice NoteBook with google Api"
   ]
  },
  {
   "cell_type": "markdown",
   "metadata": {},
   "source": [
    "here is some expalnation content and executioan part will be seen"
   ]
  },
  {
   "cell_type": "code",
   "execution_count": 72,
   "metadata": {},
   "outputs": [],
   "source": [
    "from googletrans import Translator\n",
    "import requests\n",
    "from bs4 import BeautifulSoup as bs\n",
    "from google.cloud import texttospeech\n",
    "import re\n",
    "from random_word import RandomWords\n",
    "import inflect\n",
    "import pandas\n",
    "import numpy as np"
   ]
  },
  {
   "cell_type": "markdown",
   "metadata": {},
   "source": [
    "dictionary alternative \n",
    "\n"
   ]
  },
  {
   "cell_type": "code",
   "execution_count": 130,
   "metadata": {},
   "outputs": [
    {
     "ename": "ModuleNotFoundError",
     "evalue": "No module named 'PyDictionary'",
     "output_type": "error",
     "traceback": [
      "\u001b[1;31m---------------------------------------------------------------------------\u001b[0m",
      "\u001b[1;31mModuleNotFoundError\u001b[0m                       Traceback (most recent call last)",
      "\u001b[1;32mc:\\Users\\emreb\\Documents\\projects\\telegramdicti\\deneme.ipynb Cell 5'\u001b[0m in \u001b[0;36m<cell line: 1>\u001b[1;34m()\u001b[0m\n\u001b[1;32m----> <a href='vscode-notebook-cell:/c%3A/Users/emreb/Documents/projects/telegramdicti/deneme.ipynb#ch0000031?line=0'>1</a>\u001b[0m \u001b[39mfrom\u001b[39;00m \u001b[39mPyDictionary\u001b[39;00m \u001b[39mimport\u001b[39;00m PyDictionary\n\u001b[0;32m      <a href='vscode-notebook-cell:/c%3A/Users/emreb/Documents/projects/telegramdicti/deneme.ipynb#ch0000031?line=1'>2</a>\u001b[0m dictionary\u001b[39m=\u001b[39mPyDictionary()\n\u001b[0;32m      <a href='vscode-notebook-cell:/c%3A/Users/emreb/Documents/projects/telegramdicti/deneme.ipynb#ch0000031?line=2'>3</a>\u001b[0m \u001b[39mprint\u001b[39m (dictionary\u001b[39m.\u001b[39mmeaning(\u001b[39m\"\u001b[39m\u001b[39mindentation\u001b[39m\u001b[39m\"\u001b[39m))\n",
      "\u001b[1;31mModuleNotFoundError\u001b[0m: No module named 'PyDictionary'"
     ]
    }
   ],
   "source": [
    "from PyDictionary import PyDictionary\n",
    "dictionary=PyDictionary()\n",
    "print (dictionary.meaning(\"indentation\"))"
   ]
  },
  {
   "cell_type": "markdown",
   "metadata": {},
   "source": [
    "## Dictionary scraping merriam webster"
   ]
  },
  {
   "cell_type": "code",
   "execution_count": 2,
   "metadata": {},
   "outputs": [],
   "source": [
    "def dictionary():\n",
    "    url_merriam = 'https://www.merriam-webster.com/dictionary/'\n",
    "    word = input('Enter a word: ')\n",
    "    page = requests.get(url_merriam+ word)\n",
    "    soup = bs(page.content, 'html.parser')\n",
    "    m = soup.find_all('span', class_='dtText')[:3]\n",
    "    \n",
    "    if m == []:\n",
    "        m = soup.find('p',class_='spelling-suggestion-text')\n",
    "        return m.text\n",
    "    else:\n",
    "        return [c.text.split(':')[1] for c in m]\n"
   ]
  },
  {
   "cell_type": "code",
   "execution_count": 88,
   "metadata": {},
   "outputs": [
    {
     "data": {
      "text/plain": [
       "\"\\n        The word you've entered isn't in the dictionary. Click on a spelling suggestion below or try again using the search bar above.    \""
      ]
     },
     "execution_count": 88,
     "metadata": {},
     "output_type": "execute_result"
    }
   ],
   "source": [
    "dictionary()"
   ]
  },
  {
   "cell_type": "code",
   "execution_count": 45,
   "metadata": {},
   "outputs": [],
   "source": [
    "translator = Translator()"
   ]
  },
  {
   "cell_type": "code",
   "execution_count": 46,
   "metadata": {},
   "outputs": [],
   "source": [
    "result = translator.translate('merhaba')"
   ]
  },
  {
   "cell_type": "code",
   "execution_count": 47,
   "metadata": {},
   "outputs": [
    {
     "data": {
      "text/plain": [
       "'Hello there'"
      ]
     },
     "execution_count": 47,
     "metadata": {},
     "output_type": "execute_result"
    }
   ],
   "source": [
    "result.text"
   ]
  },
  {
   "cell_type": "code",
   "execution_count": 65,
   "metadata": {},
   "outputs": [],
   "source": [
    "def create_audio(text,src,dest):\n",
    "\n",
    "  translator = Translator()\n",
    "  result = translator.translate(text, src=src, dest=dest)\n",
    "  # Instantiates a client\n",
    "  client = texttospeech.TextToSpeechClient()\n",
    "\n",
    "  # Set the text input to be synthesized\n",
    "  synthesis_input = texttospeech.SynthesisInput(text=result.text)\n",
    "\n",
    "  # Build the voice request, select the language code (\"en-US\") and the ssml\n",
    "  # voice gender (\"neutral\")\n",
    "  voice = texttospeech.VoiceSelectionParams(\n",
    "    language_code= dest,\n",
    "    ssml_gender=texttospeech.SsmlVoiceGender.NEUTRAL,)\n",
    "\n",
    "  # Select the type of audio file you want returned\n",
    "  audio_config = texttospeech.AudioConfig(\n",
    "    audio_encoding=texttospeech.AudioEncoding.MP3)\n",
    "\n",
    "  # Perform the text-to-speech request on the text input with the selected\n",
    "  # voice parameters and audio file type\n",
    "  response = client.synthesize_speech(\n",
    "        request={\"input\": synthesis_input, \"voice\": voice, \"audio_config\": audio_config}\n",
    "    )\n",
    "\n",
    "  # The response's audio_content is binary.\n",
    "  with open(f'audio/{result.text}.mp3', 'wb') as out:\n",
    "    # Write the response to the output file.\n",
    "    out.write(response.audio_content)\n",
    "  return result.text"
   ]
  },
  {
   "cell_type": "code",
   "execution_count": 67,
   "metadata": {},
   "outputs": [],
   "source": [
    "# src and dest are the languages that user need to give as input and make it with selectbox in telegram somehow\n",
    "audiotranslater = create_audio('how are you','en','de')"
   ]
  },
  {
   "cell_type": "code",
   "execution_count": 68,
   "metadata": {},
   "outputs": [
    {
     "data": {
      "text/plain": [
       "'Wie geht es dir'"
      ]
     },
     "execution_count": 68,
     "metadata": {},
     "output_type": "execute_result"
    }
   ],
   "source": [
    "audiotranslater"
   ]
  },
  {
   "cell_type": "code",
   "execution_count": 83,
   "metadata": {},
   "outputs": [],
   "source": [
    "def create_audio_number(number,src,dest):\n",
    "\n",
    "  translator = Translator()\n",
    "  p = inflect.engine()\n",
    "  number = p.number_to_words(number)\n",
    "  result = translator.translate(number, src=src, dest=dest)\n",
    "  # Instantiates a client\n",
    "  client = texttospeech.TextToSpeechClient()\n",
    " \n",
    "  # Set the text input to be synthesized\n",
    "  synthesis_input = texttospeech.SynthesisInput(text=result.text)\n",
    "  \n",
    "  # Build the voice request, select the language code (\"en-US\") and the ssml\n",
    "  # voice gender (\"neutral\")\n",
    "  voice = texttospeech.VoiceSelectionParams(\n",
    "    language_code= dest,\n",
    "    ssml_gender=texttospeech.SsmlVoiceGender.NEUTRAL,)\n",
    "\n",
    "  # Select the type of audio file you want returned\n",
    "  audio_config = texttospeech.AudioConfig(\n",
    "    audio_encoding=texttospeech.AudioEncoding.MP3)\n",
    "\n",
    "  # Perform the text-to-speech request on the text input with the selected\n",
    "  # voice parameters and audio file type\n",
    "  response = client.synthesize_speech(\n",
    "        request={\"input\": synthesis_input, \"voice\": voice, \"audio_config\": audio_config}\n",
    "    )\n",
    "\n",
    "  # The response's audio_content is binary.\n",
    "  with open(f'audio/{result.text}.mp3', 'wb') as out:\n",
    "    # Write the response to the output file.\n",
    "    out.write(response.audio_content)\n",
    "    \n",
    "    \n",
    "    \n",
    "    return result.text"
   ]
  },
  {
   "cell_type": "code",
   "execution_count": 84,
   "metadata": {},
   "outputs": [],
   "source": [
    "# number exerciser\n",
    "# if user choose level 1 k will be 1 \n",
    "level = input('what is the level of your number exercise:1/2/3 ')\n",
    "if level == '1':\n",
    "    k = np.random.randint(1,100)\n",
    "if level == '2':\n",
    "    k = np.random.randint(100,1000)\n",
    "if level == '3':\n",
    "    k = np.random.randint(1000,1000000)\n",
    "    \n",
    "numberpractice= create_audio_number(f\"{k}\",'en','de')"
   ]
  },
  {
   "cell_type": "code",
   "execution_count": 85,
   "metadata": {},
   "outputs": [
    {
     "data": {
      "text/plain": [
       "'vierzig'"
      ]
     },
     "execution_count": 85,
     "metadata": {},
     "output_type": "execute_result"
    }
   ],
   "source": [
    "numberpractice "
   ]
  },
  {
   "cell_type": "code",
   "execution_count": 80,
   "metadata": {},
   "outputs": [],
   "source": [
    "def create_audio_word(src,dest):\n",
    "\n",
    "  translator = Translator()\n",
    "  r = RandomWords()\n",
    "  word = r.get_random_word()\n",
    "  result = translator.translate(word, src=src, dest=dest)\n",
    "  # Instantiates a client\n",
    "  client = texttospeech.TextToSpeechClient()\n",
    " \n",
    "  # Set the text input to be synthesized\n",
    "  synthesis_input = texttospeech.SynthesisInput(text=result.text)\n",
    "  \n",
    "  # Build the voice request, select the language code (\"en-US\") and the ssml\n",
    "  # voice gender (\"neutral\")\n",
    "  voice = texttospeech.VoiceSelectionParams(\n",
    "    language_code= dest,\n",
    "    ssml_gender=texttospeech.SsmlVoiceGender.NEUTRAL,)\n",
    "\n",
    "  # Select the type of audio file you want returned\n",
    "  audio_config = texttospeech.AudioConfig(\n",
    "    audio_encoding=texttospeech.AudioEncoding.MP3)\n",
    "\n",
    "  # Perform the text-to-speech request on the text input with the selected\n",
    "  # voice parameters and audio file type\n",
    "  response = client.synthesize_speech(\n",
    "        request={\"input\": synthesis_input, \"voice\": voice, \"audio_config\": audio_config}\n",
    "    )\n",
    "\n",
    "  # The response's audio_content is binary.\n",
    "  with open(f'audio/{result.text}.mp3', 'wb') as out:\n",
    "    # Write the response to the output file.\n",
    "    out.write(response.audio_content)\n",
    "    \n",
    "    \n",
    "    \n",
    "  return result.text,word\n"
   ]
  },
  {
   "cell_type": "code",
   "execution_count": 81,
   "metadata": {},
   "outputs": [],
   "source": [
    "wordgeneretaed,enword= create_audio_word('en','de')"
   ]
  },
  {
   "cell_type": "code",
   "execution_count": 89,
   "metadata": {},
   "outputs": [
    {
     "data": {
      "text/plain": [
       "'Kalmuck'"
      ]
     },
     "execution_count": 89,
     "metadata": {},
     "output_type": "execute_result"
    }
   ],
   "source": [
    "r = RandomWords()\n"
   ]
  },
  {
   "cell_type": "code",
   "execution_count": 126,
   "metadata": {},
   "outputs": [
    {
     "data": {
      "text/plain": [
       "['champion-elect',\n",
       " 'jib-topsail',\n",
       " 'dumbledores',\n",
       " 'remarker',\n",
       " 'coalers',\n",
       " 'wide-watered',\n",
       " 'besots',\n",
       " 'tea-bread',\n",
       " 'azogue',\n",
       " 'unstrings']"
      ]
     },
     "execution_count": 126,
     "metadata": {},
     "output_type": "execute_result"
    }
   ],
   "source": [
    "r.get_random_words(hasDictionaryDef=\"true\",minCorpusCount=9,maxCorpusCount=21,limit=10)"
   ]
  },
  {
   "cell_type": "markdown",
   "metadata": {},
   "source": []
  },
  {
   "cell_type": "markdown",
   "metadata": {},
   "source": [
    "- src: The source language\n",
    "- dest: Destination language, which is set to English (en)\n",
    "- origin: Original text, that is 'Mitä sinä teet' in our example\n",
    "- text: Translated text, that will be 'what are you doing?' in our case\n",
    "- pronunciation: Pronunciation of the translated text"
   ]
  },
  {
   "cell_type": "code",
   "execution_count": 129,
   "metadata": {},
   "outputs": [
    {
     "data": {
      "text/plain": [
       "'{\"word\": \"falsidical\", \"definations\": [{\"source\": \"century\", \"text\": \"Expressing falsehood; falsifying: opposed to veridical.\", \"note\": null, \"partOfSpeech\": \"adjective\"}, {\"source\": \"wiktionary\", \"text\": \"Having a false basis.\", \"note\": null, \"partOfSpeech\": \"adjective\"}]}'"
      ]
     },
     "execution_count": 129,
     "metadata": {},
     "output_type": "execute_result"
    }
   ],
   "source": [
    "r.word_of_the_day()"
   ]
  },
  {
   "cell_type": "code",
   "execution_count": 8,
   "metadata": {},
   "outputs": [],
   "source": [
    "import os\n",
    "os.environ[\"GOOGLE_APPLICATION_CREDENTIALS\"]='C:/Users/emreb/Documents/projects/secret/projecttelebotapi-cafc88105725.json'"
   ]
  },
  {
   "cell_type": "code",
   "execution_count": 15,
   "metadata": {},
   "outputs": [
    {
     "data": {
      "text/plain": [
       "'Selam Dünya'"
      ]
     },
     "execution_count": 15,
     "metadata": {},
     "output_type": "execute_result"
    }
   ],
   "source": [
    "\n"
   ]
  },
  {
   "cell_type": "code",
   "execution_count": null,
   "metadata": {},
   "outputs": [],
   "source": [
    "def translatetext(text, src, dest):\n",
    "    translator = Translator()\n",
    "    result = translator.translate(text, src=src, dest=dest)\n",
    "    return result.text"
   ]
  }
 ],
 "metadata": {
  "interpreter": {
   "hash": "e94f0de3e8068f7a5ad18028c1332ee6ebef6cbbda5ffb4e6df750d0ae4245cb"
  },
  "kernelspec": {
   "display_name": "Python 3.8.13 ('telegramdicti')",
   "language": "python",
   "name": "python3"
  },
  "language_info": {
   "codemirror_mode": {
    "name": "ipython",
    "version": 3
   },
   "file_extension": ".py",
   "mimetype": "text/x-python",
   "name": "python",
   "nbconvert_exporter": "python",
   "pygments_lexer": "ipython3",
   "version": "3.8.13"
  },
  "orig_nbformat": 4
 },
 "nbformat": 4,
 "nbformat_minor": 2
}
