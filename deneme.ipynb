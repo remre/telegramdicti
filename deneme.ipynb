{
 "cells": [
  {
   "cell_type": "markdown",
   "metadata": {},
   "source": [
    "# Telegram Dictionary And Easy Practice NoteBook with google Api"
   ]
  },
  {
   "cell_type": "markdown",
   "metadata": {},
   "source": [
    "here is some expalnation content and executioan part will be seen"
   ]
  },
  {
   "cell_type": "code",
   "execution_count": 1,
   "metadata": {},
   "outputs": [],
   "source": [
    "from googletrans import Translator\n",
    "import requests\n",
    "from bs4 import BeautifulSoup as bs\n",
    "from google.cloud import texttospeech\n",
    "import re\n",
    "import pandas"
   ]
  },
  {
   "cell_type": "markdown",
   "metadata": {},
   "source": [
    "## Dictionary scraping merriam webster"
   ]
  },
  {
   "cell_type": "code",
   "execution_count": 2,
   "metadata": {},
   "outputs": [],
   "source": [
    "def dictionary():\n",
    "    url_merriam = 'https://www.merriam-webster.com/dictionary/'\n",
    "    word = input('Enter a word: ')\n",
    "    page = requests.get(url_merriam+ word)\n",
    "    soup = bs(page.content, 'html.parser')\n",
    "    m = soup.find_all('span', class_='dtText')[:3]\n",
    "    \n",
    "    if m == []:\n",
    "        m = soup.find('p',class_='spelling-suggestion-text')\n",
    "        return m.text\n",
    "    else:\n",
    "        return [c.text.split(':')[1] for c in m]\n"
   ]
  },
  {
   "cell_type": "code",
   "execution_count": 4,
   "metadata": {},
   "outputs": [
    {
     "data": {
      "text/plain": [
       "[' an expression or gesture of greeting']"
      ]
     },
     "execution_count": 4,
     "metadata": {},
     "output_type": "execute_result"
    }
   ],
   "source": [
    "dictionary()"
   ]
  },
  {
   "cell_type": "code",
   "execution_count": 38,
   "metadata": {},
   "outputs": [
    {
     "name": "stdout",
     "output_type": "stream",
     "text": [
      "[]\n"
     ]
    }
   ],
   "source": [
    "url_merriam = 'https://www.merriam-webster.com/dictionary/'\n",
    "word = input('Enter a word: ')\n",
    "page = requests.get(url_merriam+ word)\n",
    "soup = bs(page.content, 'html.parser')\n",
    "m = soup.find_all('span', class_='dtText')[:3]\n",
    "print([c.text.split(':')[1] for c in m])"
   ]
  },
  {
   "cell_type": "code",
   "execution_count": 45,
   "metadata": {},
   "outputs": [],
   "source": [
    "translator = Translator()"
   ]
  },
  {
   "cell_type": "code",
   "execution_count": 46,
   "metadata": {},
   "outputs": [],
   "source": [
    "result = translator.translate('merhaba')"
   ]
  },
  {
   "cell_type": "code",
   "execution_count": 47,
   "metadata": {},
   "outputs": [
    {
     "data": {
      "text/plain": [
       "'Hello there'"
      ]
     },
     "execution_count": 47,
     "metadata": {},
     "output_type": "execute_result"
    }
   ],
   "source": [
    "result.text"
   ]
  },
  {
   "cell_type": "code",
   "execution_count": 15,
   "metadata": {},
   "outputs": [],
   "source": [
    "def create_audio(text):\n",
    "\n",
    "  # Instantiates a client\n",
    "  client = texttospeech.TextToSpeechClient()\n",
    "\n",
    "  # Set the text input to be synthesized\n",
    "  synthesis_input = texttospeech.SynthesisInput(text=text)\n",
    "\n",
    "  # Build the voice request, select the language code (\"en-US\") and the ssml\n",
    "  # voice gender (\"neutral\")\n",
    "  voice = texttospeech.VoiceSelectionParams(\n",
    "    language_code= input('Select the language code'),\n",
    "    ssml_gender=texttospeech.SsmlVoiceGender.NEUTRAL)\n",
    "\n",
    "  # Select the type of audio file you want returned\n",
    "  audio_config = texttospeech.AudioConfig(\n",
    "    audio_encoding=texttospeech.AudioEncoding.MP3)\n",
    "\n",
    "  # Perform the text-to-speech request on the text input with the selected\n",
    "  # voice parameters and audio file type\n",
    "  response = client.synthesize_speech(synthesis_input, voice, audio_config)\n",
    "\n",
    "  # The response's audio_content is binary.\n",
    "  with open('audio/{}.mp3'.format(text), 'wb') as out:\n",
    "    # Write the response to the output file.\n",
    "    out.write(response.audio_content)"
   ]
  },
  {
   "cell_type": "code",
   "execution_count": 16,
   "metadata": {},
   "outputs": [
    {
     "ename": "AttributeError",
     "evalue": "module 'google.cloud.texttospeech' has no attribute 'enums'",
     "output_type": "error",
     "traceback": [
      "\u001b[1;31m---------------------------------------------------------------------------\u001b[0m",
      "\u001b[1;31mAttributeError\u001b[0m                            Traceback (most recent call last)",
      "\u001b[1;32mc:\\Users\\emreb\\Documents\\projects\\telegramdicti\\deneme.ipynb Cell 12'\u001b[0m in \u001b[0;36m<cell line: 1>\u001b[1;34m()\u001b[0m\n\u001b[1;32m----> <a href='vscode-notebook-cell:/c%3A/Users/emreb/Documents/projects/telegramdicti/deneme.ipynb#ch0000016?line=0'>1</a>\u001b[0m create_audio(\u001b[39m'\u001b[39;49m\u001b[39mmerhaba\u001b[39;49m\u001b[39m'\u001b[39;49m)\n",
      "\u001b[1;32mc:\\Users\\emreb\\Documents\\projects\\telegramdicti\\deneme.ipynb Cell 11'\u001b[0m in \u001b[0;36mcreate_audio\u001b[1;34m(text)\u001b[0m\n\u001b[0;32m      <a href='vscode-notebook-cell:/c%3A/Users/emreb/Documents/projects/telegramdicti/deneme.ipynb#ch0000015?line=6'>7</a>\u001b[0m synthesis_input \u001b[39m=\u001b[39m texttospeech\u001b[39m.\u001b[39mSynthesisInput(text\u001b[39m=\u001b[39mtext)\n\u001b[0;32m      <a href='vscode-notebook-cell:/c%3A/Users/emreb/Documents/projects/telegramdicti/deneme.ipynb#ch0000015?line=8'>9</a>\u001b[0m \u001b[39m# Build the voice request, select the language code (\"en-US\") and the ssml\u001b[39;00m\n\u001b[0;32m     <a href='vscode-notebook-cell:/c%3A/Users/emreb/Documents/projects/telegramdicti/deneme.ipynb#ch0000015?line=9'>10</a>\u001b[0m \u001b[39m# voice gender (\"neutral\")\u001b[39;00m\n\u001b[0;32m     <a href='vscode-notebook-cell:/c%3A/Users/emreb/Documents/projects/telegramdicti/deneme.ipynb#ch0000015?line=10'>11</a>\u001b[0m voice \u001b[39m=\u001b[39m texttospeech\u001b[39m.\u001b[39mVoiceSelectionParams(\n\u001b[0;32m     <a href='vscode-notebook-cell:/c%3A/Users/emreb/Documents/projects/telegramdicti/deneme.ipynb#ch0000015?line=11'>12</a>\u001b[0m   language_code\u001b[39m=\u001b[39m \u001b[39minput\u001b[39m(\u001b[39m'\u001b[39m\u001b[39mSelect the language code\u001b[39m\u001b[39m'\u001b[39m),\n\u001b[1;32m---> <a href='vscode-notebook-cell:/c%3A/Users/emreb/Documents/projects/telegramdicti/deneme.ipynb#ch0000015?line=12'>13</a>\u001b[0m   ssml_gender\u001b[39m=\u001b[39mtexttospeech\u001b[39m.\u001b[39;49menums\u001b[39m.\u001b[39mSsmlVoiceGender\u001b[39m.\u001b[39mNEUTRAL)\n\u001b[0;32m     <a href='vscode-notebook-cell:/c%3A/Users/emreb/Documents/projects/telegramdicti/deneme.ipynb#ch0000015?line=14'>15</a>\u001b[0m \u001b[39m# Select the type of audio file you want returned\u001b[39;00m\n\u001b[0;32m     <a href='vscode-notebook-cell:/c%3A/Users/emreb/Documents/projects/telegramdicti/deneme.ipynb#ch0000015?line=15'>16</a>\u001b[0m audio_config \u001b[39m=\u001b[39m texttospeech\u001b[39m.\u001b[39mAudioConfig(\n\u001b[0;32m     <a href='vscode-notebook-cell:/c%3A/Users/emreb/Documents/projects/telegramdicti/deneme.ipynb#ch0000015?line=16'>17</a>\u001b[0m   audio_encoding\u001b[39m=\u001b[39mtexttospeech\u001b[39m.\u001b[39mAudioEncoding\u001b[39m.\u001b[39mMP3)\n",
      "\u001b[1;31mAttributeError\u001b[0m: module 'google.cloud.texttospeech' has no attribute 'enums'"
     ]
    }
   ],
   "source": [
    "create_audio('merhaba')"
   ]
  },
  {
   "cell_type": "markdown",
   "metadata": {},
   "source": [
    "- src: The source language\n",
    "- dest: Destination language, which is set to English (en)\n",
    "- origin: Original text, that is 'Mitä sinä teet' in our example\n",
    "- text: Translated text, that will be 'what are you doing?' in our case\n",
    "- pronunciation: Pronunciation of the translated text"
   ]
  },
  {
   "cell_type": "code",
   "execution_count": 8,
   "metadata": {},
   "outputs": [],
   "source": [
    "import os\n",
    "os.environ[\"GOOGLE_APPLICATION_CREDENTIALS\"]='C:/Users/emreb/Documents/projects/secret/projecttelebotapi-cafc88105725.json'"
   ]
  },
  {
   "cell_type": "code",
   "execution_count": 15,
   "metadata": {},
   "outputs": [
    {
     "data": {
      "text/plain": [
       "'Selam Dünya'"
      ]
     },
     "execution_count": 15,
     "metadata": {},
     "output_type": "execute_result"
    }
   ],
   "source": [
    "\n"
   ]
  },
  {
   "cell_type": "code",
   "execution_count": null,
   "metadata": {},
   "outputs": [],
   "source": [
    "def translatetext(text, src, dest):\n",
    "    translator = Translator()\n",
    "    result = translator.translate(text, src=src, dest=dest)\n",
    "    return result.text"
   ]
  }
 ],
 "metadata": {
  "interpreter": {
   "hash": "e94f0de3e8068f7a5ad18028c1332ee6ebef6cbbda5ffb4e6df750d0ae4245cb"
  },
  "kernelspec": {
   "display_name": "Python 3.8.13 ('telegramdicti')",
   "language": "python",
   "name": "python3"
  },
  "language_info": {
   "codemirror_mode": {
    "name": "ipython",
    "version": 3
   },
   "file_extension": ".py",
   "mimetype": "text/x-python",
   "name": "python",
   "nbconvert_exporter": "python",
   "pygments_lexer": "ipython3",
   "version": "3.8.13"
  },
  "orig_nbformat": 4
 },
 "nbformat": 4,
 "nbformat_minor": 2
}
