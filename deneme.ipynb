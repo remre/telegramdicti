{
 "cells": [
  {
   "cell_type": "markdown",
   "metadata": {},
   "source": [
    "# Telegram Dictionary And Easy Practice NoteBook with google Api"
   ]
  },
  {
   "cell_type": "markdown",
   "metadata": {},
   "source": [
    "here is some expalnation content and executioan part will be seen"
   ]
  },
  {
   "cell_type": "code",
   "execution_count": 4,
   "metadata": {},
   "outputs": [],
   "source": [
    "from googletrans import Translator\n",
    "import requests\n",
    "from bs4 import BeautifulSoup as bs\n",
    "from google.cloud import texttospeech\n",
    "import re\n",
    "import pandas"
   ]
  },
  {
   "cell_type": "markdown",
   "metadata": {},
   "source": [
    "## Dictionary scraping merriam webster"
   ]
  },
  {
   "cell_type": "code",
   "execution_count": 41,
   "metadata": {},
   "outputs": [],
   "source": [
    "def dictionary():\n",
    "    url_merriam = 'https://www.merriam-webster.com/dictionary/'\n",
    "    word = input('Enter a word: ')\n",
    "    page = requests.get(url_merriam+ word)\n",
    "    soup = bs(page.content, 'html.parser')\n",
    "    m = soup.find_all('span', class_='dtText')[:3]\n",
    "    \n",
    "    if m == []:\n",
    "        m = soup.find('p',class_='spelling-suggestion-text')\n",
    "        print(m.text)\n",
    "    else:\n",
    "        print([c.text.split(':')[1] for c in m])"
   ]
  },
  {
   "cell_type": "code",
   "execution_count": 42,
   "metadata": {},
   "outputs": [
    {
     "name": "stdout",
     "output_type": "stream",
     "text": [
      "[]\n",
      "\n",
      "        The word you've entered isn't in the dictionary. Click on a spelling suggestion below or try again using the search bar above.    \n"
     ]
    }
   ],
   "source": [
    "dictionary()"
   ]
  },
  {
   "cell_type": "code",
   "execution_count": 38,
   "metadata": {},
   "outputs": [
    {
     "name": "stdout",
     "output_type": "stream",
     "text": [
      "[]\n"
     ]
    }
   ],
   "source": [
    "url_merriam = 'https://www.merriam-webster.com/dictionary/'\n",
    "word = input('Enter a word: ')\n",
    "page = requests.get(url_merriam+ word)\n",
    "soup = bs(page.content, 'html.parser')\n",
    "m = soup.find_all('span', class_='dtText')[:3]\n",
    "print([c.text.split(':')[1] for c in m])"
   ]
  },
  {
   "cell_type": "code",
   "execution_count": 6,
   "metadata": {},
   "outputs": [],
   "source": [
    "result = translator.translate('merhaba')"
   ]
  },
  {
   "cell_type": "code",
   "execution_count": 8,
   "metadata": {},
   "outputs": [
    {
     "data": {
      "text/plain": [
       "'Hello there'"
      ]
     },
     "execution_count": 8,
     "metadata": {},
     "output_type": "execute_result"
    }
   ],
   "source": [
    "result.text"
   ]
  },
  {
   "cell_type": "markdown",
   "metadata": {},
   "source": [
    "- src: The source language\n",
    "- dest: Destination language, which is set to English (en)\n",
    "- origin: Original text, that is 'Mitä sinä teet' in our example\n",
    "- text: Translated text, that will be 'what are you doing?' in our case\n",
    "- pronunciation: Pronunciation of the translated text"
   ]
  },
  {
   "cell_type": "code",
   "execution_count": 15,
   "metadata": {},
   "outputs": [
    {
     "data": {
      "text/plain": [
       "'Selam Dünya'"
      ]
     },
     "execution_count": 15,
     "metadata": {},
     "output_type": "execute_result"
    }
   ],
   "source": [
    "translator.translate(src='en',dest='tr',text= 'Hello World').pronunciation\n",
    "translator.translate(src='en',dest='tr',text= 'Hello World').text\n"
   ]
  },
  {
   "cell_type": "code",
   "execution_count": null,
   "metadata": {},
   "outputs": [],
   "source": [
    "def translatetext(text, src, dest):\n",
    "    translator = Translator()\n",
    "    result = translator.translate(text, src=src, dest=dest)\n",
    "    return result.text"
   ]
  }
 ],
 "metadata": {
  "interpreter": {
   "hash": "e94f0de3e8068f7a5ad18028c1332ee6ebef6cbbda5ffb4e6df750d0ae4245cb"
  },
  "kernelspec": {
   "display_name": "Python 3.8.13 ('telegramdicti')",
   "language": "python",
   "name": "python3"
  },
  "language_info": {
   "codemirror_mode": {
    "name": "ipython",
    "version": 3
   },
   "file_extension": ".py",
   "mimetype": "text/x-python",
   "name": "python",
   "nbconvert_exporter": "python",
   "pygments_lexer": "ipython3",
   "version": "3.8.13"
  },
  "orig_nbformat": 4
 },
 "nbformat": 4,
 "nbformat_minor": 2
}
