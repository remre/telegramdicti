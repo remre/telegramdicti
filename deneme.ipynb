{
 "cells": [
  {
   "cell_type": "markdown",
   "metadata": {},
   "source": [
    "# Telegram Dictionary And Easy Practice NoteBook with google Api"
   ]
  },
  {
   "cell_type": "markdown",
   "metadata": {},
   "source": [
    "here is some expalnation content and executioan part will be seen"
   ]
  },
  {
   "cell_type": "code",
   "execution_count": 1,
   "metadata": {},
   "outputs": [],
   "source": [
    "from googletrans import Translator\n",
    "import requests\n",
    "from bs4 import BeautifulSoup as bs\n",
    "from google.cloud import texttospeech\n",
    "import re\n",
    "from random_word import RandomWords\n",
    "\n",
    "import inflect\n",
    "import pandas\n",
    "import numpy as np"
   ]
  },
  {
   "cell_type": "code",
   "execution_count": 2,
   "metadata": {},
   "outputs": [],
   "source": [
    "import os\n",
    "os.environ[\"GOOGLE_APPLICATION_CREDENTIALS\"]='C:/Users/emreb/Documents/projects/secret/projecttelebotapi-cafc88105725.json'"
   ]
  },
  {
   "cell_type": "markdown",
   "metadata": {},
   "source": [
    "dictionary alternative \n",
    "\n"
   ]
  },
  {
   "cell_type": "code",
   "execution_count": 130,
   "metadata": {},
   "outputs": [
    {
     "ename": "ModuleNotFoundError",
     "evalue": "No module named 'PyDictionary'",
     "output_type": "error",
     "traceback": [
      "\u001b[1;31m---------------------------------------------------------------------------\u001b[0m",
      "\u001b[1;31mModuleNotFoundError\u001b[0m                       Traceback (most recent call last)",
      "\u001b[1;32mc:\\Users\\emreb\\Documents\\projects\\telegramdicti\\deneme.ipynb Cell 5'\u001b[0m in \u001b[0;36m<cell line: 1>\u001b[1;34m()\u001b[0m\n\u001b[1;32m----> <a href='vscode-notebook-cell:/c%3A/Users/emreb/Documents/projects/telegramdicti/deneme.ipynb#ch0000031?line=0'>1</a>\u001b[0m \u001b[39mfrom\u001b[39;00m \u001b[39mPyDictionary\u001b[39;00m \u001b[39mimport\u001b[39;00m PyDictionary\n\u001b[0;32m      <a href='vscode-notebook-cell:/c%3A/Users/emreb/Documents/projects/telegramdicti/deneme.ipynb#ch0000031?line=1'>2</a>\u001b[0m dictionary\u001b[39m=\u001b[39mPyDictionary()\n\u001b[0;32m      <a href='vscode-notebook-cell:/c%3A/Users/emreb/Documents/projects/telegramdicti/deneme.ipynb#ch0000031?line=2'>3</a>\u001b[0m \u001b[39mprint\u001b[39m (dictionary\u001b[39m.\u001b[39mmeaning(\u001b[39m\"\u001b[39m\u001b[39mindentation\u001b[39m\u001b[39m\"\u001b[39m))\n",
      "\u001b[1;31mModuleNotFoundError\u001b[0m: No module named 'PyDictionary'"
     ]
    }
   ],
   "source": [
    "from PyDictionary import PyDictionary\n",
    "dictionary=PyDictionary()\n",
    "print (dictionary.meaning(\"indentation\"))"
   ]
  },
  {
   "cell_type": "markdown",
   "metadata": {},
   "source": [
    "## Dictionary scraping merriam webster Tureng and Translate, TExttospeech"
   ]
  },
  {
   "cell_type": "code",
   "execution_count": 44,
   "metadata": {},
   "outputs": [],
   "source": [
    "def dictionary_tr():\n",
    "    url = 'https://tureng.com/tr/turkce-ingilizce/'\n",
    "    word = input('Enter a word: ')\n",
    "    page = requests.get(url+ word)\n",
    "    soup = bs(page.content, 'html.parser')\n",
    "    m = soup.find_all('table', class_='table table-hover table-striped searchResultsTable')\n",
    "    PoS = soup.find('td', class_='en tm')\n",
    "    m = soup.find('td', class_='tr ts')\n",
    "    if m != []:\n",
    "        return m.text.strip(),PoS.find('i').text.strip()\n",
    "    \n",
    "    \n",
    "\n",
    "    # PoS = soup.find_all('td', class_='en tm')[:3]\n",
    "    # if Pos != []:\n",
    "    #     Pos = soup.find('a')\n",
    "          #, Pos.text\n",
    "    else:\n",
    "        print('not found')"
   ]
  },
  {
   "cell_type": "code",
   "execution_count": 45,
   "metadata": {},
   "outputs": [
    {
     "data": {
      "text/plain": [
       "('cüsseli', 's.')"
      ]
     },
     "execution_count": 45,
     "metadata": {},
     "output_type": "execute_result"
    }
   ],
   "source": [
    "dictionary_tr()"
   ]
  },
  {
   "cell_type": "code",
   "execution_count": 24,
   "metadata": {},
   "outputs": [
    {
     "data": {
      "text/plain": [
       "'\\n\\n'"
      ]
     },
     "execution_count": 24,
     "metadata": {},
     "output_type": "execute_result"
    }
   ],
   "source": [
    "soup = bs(page.content, 'html.parser')\n",
    "m = soup.find_all('td', class_='tr ts')[:3]"
   ]
  },
  {
   "cell_type": "code",
   "execution_count": 33,
   "metadata": {},
   "outputs": [
    {
     "data": {
      "text/plain": [
       "'cüsseli'"
      ]
     },
     "execution_count": 33,
     "metadata": {},
     "output_type": "execute_result"
    }
   ],
   "source": [
    "url = 'https://tureng.com/tr/turkce-ingilizce/'\n",
    "word = 'massive'\n",
    "page = requests.get(url+ word)\n",
    "soup = bs(page.content, 'html.parser')\n",
    "m = soup.find_all('table', class_='table table-hover table-striped searchResultsTable')\n",
    "m = soup.find_all('td', class_='tr ts')[:3]\n",
    "# m = soup.find('a')\n",
    "m[0].text.strip()"
   ]
  },
  {
   "cell_type": "code",
   "execution_count": null,
   "metadata": {},
   "outputs": [],
   "source": []
  },
  {
   "cell_type": "code",
   "execution_count": 4,
   "metadata": {},
   "outputs": [],
   "source": [
    "def dictionary(word):\n",
    "    url_merriam = 'https://www.merriam-webster.com/dictionary/'\n",
    "    \n",
    "    page = requests.get(url_merriam+ word)\n",
    "    soup = bs(page.content, 'html.parser')\n",
    "    m = soup.find_all('span', class_='dtText')[:3]\n",
    "    \n",
    "    if m == []:\n",
    "        m = soup.find('p',class_='spelling-suggestion-text')\n",
    "        return m.text\n",
    "    else:\n",
    "        return [c.text.split(':')[1] for c in m]\n"
   ]
  },
  {
   "cell_type": "code",
   "execution_count": 5,
   "metadata": {},
   "outputs": [
    {
     "data": {
      "text/plain": [
       "[' an expression or gesture of greeting']"
      ]
     },
     "execution_count": 5,
     "metadata": {},
     "output_type": "execute_result"
    }
   ],
   "source": [
    "dictionary('hello')"
   ]
  },
  {
   "cell_type": "code",
   "execution_count": 6,
   "metadata": {},
   "outputs": [],
   "source": [
    "def dictionary_asdas(word):\n",
    "    answer = dictionary(word)\n",
    "    return answer"
   ]
  },
  {
   "cell_type": "code",
   "execution_count": 7,
   "metadata": {},
   "outputs": [
    {
     "data": {
      "text/plain": [
       "[' the measured or measurable period during which an action, process, or condition exists or continues ',\n",
       " ' a nonspatial continuum that is measured in terms of events which succeed one another from past through present to future',\n",
       " ' leisure']"
      ]
     },
     "execution_count": 7,
     "metadata": {},
     "output_type": "execute_result"
    }
   ],
   "source": [
    "dictionary_asdas('time')"
   ]
  },
  {
   "cell_type": "code",
   "execution_count": 46,
   "metadata": {},
   "outputs": [],
   "source": [
    "result = translator.translate('merhaba')"
   ]
  },
  {
   "cell_type": "code",
   "execution_count": 47,
   "metadata": {},
   "outputs": [
    {
     "data": {
      "text/plain": [
       "'Hello there'"
      ]
     },
     "execution_count": 47,
     "metadata": {},
     "output_type": "execute_result"
    }
   ],
   "source": [
    "result.text "
   ]
  },
  {
   "cell_type": "code",
   "execution_count": 65,
   "metadata": {},
   "outputs": [],
   "source": [
    "def create_audio(text,src,dest):\n",
    "\n",
    "  translator = Translator()\n",
    "  result = translator.translate(text, src=src, dest=dest)\n",
    "  # Instantiates a client\n",
    "  client = texttospeech.TextToSpeechClient()\n",
    "\n",
    "  # Set the text input to be synthesized\n",
    "  synthesis_input = texttospeech.SynthesisInput(text=result.text)\n",
    "\n",
    "  # Build the voice request, select the language code (\"en-US\") and the ssml\n",
    "  # voice gender (\"neutral\")\n",
    "  voice = texttospeech.VoiceSelectionParams(\n",
    "    language_code= dest,\n",
    "    ssml_gender=texttospeech.SsmlVoiceGender.NEUTRAL,)\n",
    "\n",
    "  # Select the type of audio file you want returned\n",
    "  audio_config = texttospeech.AudioConfig(\n",
    "    audio_encoding=texttospeech.AudioEncoding.MP3)\n",
    "\n",
    "  # Perform the text-to-speech request on the text input with the selected\n",
    "  # voice parameters and audio file type\n",
    "  response = client.synthesize_speech(\n",
    "        request={\"input\": synthesis_input, \"voice\": voice, \"audio_config\": audio_config}\n",
    "    )\n",
    "\n",
    "  # The response's audio_content is binary.\n",
    "  with open(f'audio/{result.text}.mp3', 'wb') as out:\n",
    "    # Write the response to the output file.\n",
    "    out.write(response.audio_content)\n",
    "  return result.text"
   ]
  },
  {
   "cell_type": "code",
   "execution_count": 67,
   "metadata": {},
   "outputs": [],
   "source": [
    "# src and dest are the languages that user need to give as input and make it with selectbox in telegram somehow\n",
    "# audiotranslater = create_audio('how are you','en','de')"
   ]
  },
  {
   "cell_type": "code",
   "execution_count": 68,
   "metadata": {},
   "outputs": [
    {
     "data": {
      "text/plain": [
       "'Wie geht es dir'"
      ]
     },
     "execution_count": 68,
     "metadata": {},
     "output_type": "execute_result"
    }
   ],
   "source": [
    "# audiotranslater"
   ]
  },
  {
   "cell_type": "code",
   "execution_count": null,
   "metadata": {},
   "outputs": [],
   "source": [
    "p = inflect.engine()\n",
    "number = p.number_to_words(number)"
   ]
  },
  {
   "cell_type": "code",
   "execution_count": 8,
   "metadata": {},
   "outputs": [],
   "source": [
    "def create_audio_number(number,src,dest):\n",
    "\n",
    "  translator = Translator()\n",
    "  p = inflect.engine()\n",
    "  number_w = p.number_to_words(number)\n",
    "  result = translator.translate(number_w, src=src, dest=dest)\n",
    "  # Instantiates a client\n",
    "  client = texttospeech.TextToSpeechClient()\n",
    " \n",
    "  # Set the text input to be synthesized\n",
    "  synthesis_input = texttospeech.SynthesisInput(text=result.text)\n",
    "  \n",
    "  # Build the voice request, select the language code (\"en-US\") and the ssml\n",
    "  # voice gender (\"neutral\")\n",
    "  voice = texttospeech.VoiceSelectionParams(\n",
    "    language_code= dest,\n",
    "    ssml_gender=texttospeech.SsmlVoiceGender.NEUTRAL,)\n",
    "\n",
    "  # Select the type of audio file you want returned\n",
    "  audio_config = texttospeech.AudioConfig(\n",
    "    audio_encoding=texttospeech.AudioEncoding.MP3)\n",
    "\n",
    "  # Perform the text-to-speech request on the text input with the selected\n",
    "  # voice parameters and audio file type\n",
    "  response = client.synthesize_speech(\n",
    "        request={\"input\": synthesis_input, \"voice\": voice, \"audio_config\": audio_config}\n",
    "    )\n",
    "\n",
    "  # The response's audio_content is binary.\n",
    "  with open(f'audio/{result.text}.mp3', 'wb') as out:\n",
    "    # Write the response to the output file.\n",
    "    out.write(response.audio_content)\n",
    "    \n",
    "    \n",
    "    \n",
    "  return result.text,number"
   ]
  },
  {
   "cell_type": "code",
   "execution_count": 9,
   "metadata": {},
   "outputs": [],
   "source": [
    "# number exerciser\n",
    "# if user choose level 1 k will be 1 \n",
    "level = input('what is the level of your number exercise:1/2/3 ')\n",
    "if level == '1':\n",
    "    k = np.random.randint(1,100)\n",
    "if level == '2':\n",
    "    k = np.random.randint(100,1000)\n",
    "if level == '3':\n",
    "    k = np.random.randint(1000,1000000)\n",
    "    \n",
    "numberpractice,number_button= create_audio_number(f\"{k}\",'en','de')"
   ]
  },
  {
   "cell_type": "code",
   "execution_count": 11,
   "metadata": {},
   "outputs": [
    {
     "data": {
      "text/plain": [
       "'sechshundert und sechsundachtzig'"
      ]
     },
     "execution_count": 11,
     "metadata": {},
     "output_type": "execute_result"
    }
   ],
   "source": [
    "numberpractice\n"
   ]
  },
  {
   "cell_type": "code",
   "execution_count": 14,
   "metadata": {},
   "outputs": [],
   "source": [
    "tele_ans = input('what is the number of the voice? ')\n"
   ]
  },
  {
   "cell_type": "code",
   "execution_count": 15,
   "metadata": {},
   "outputs": [
    {
     "name": "stdout",
     "output_type": "stream",
     "text": [
      "wrong\n"
     ]
    }
   ],
   "source": [
    "def compare_ansew():\n",
    "    if tele_ans == numberpractice:\n",
    "        print('correct')\n",
    "    else:\n",
    "        print('wrong')\n",
    "compare_ansew()"
   ]
  },
  {
   "cell_type": "code",
   "execution_count": 80,
   "metadata": {},
   "outputs": [],
   "source": [
    "def create_audio_word(src,dest):\n",
    "\n",
    "  translator = Translator()\n",
    "  r = RandomWords()\n",
    "  word = r.get_random_word()\n",
    "  result = translator.translate(word, src=src, dest=dest)\n",
    "  # Instantiates a client\n",
    "  client = texttospeech.TextToSpeechClient()\n",
    " \n",
    "  # Set the text input to be synthesized\n",
    "  synthesis_input = texttospeech.SynthesisInput(text=result.text)\n",
    "  \n",
    "  # Build the voice request, select the language code (\"en-US\") and the ssml\n",
    "  # voice gender (\"neutral\")\n",
    "  voice = texttospeech.VoiceSelectionParams(\n",
    "    language_code= dest,\n",
    "    ssml_gender=texttospeech.SsmlVoiceGender.NEUTRAL,)\n",
    "\n",
    "  # Select the type of audio file you want returned\n",
    "  audio_config = texttospeech.AudioConfig(\n",
    "    audio_encoding=texttospeech.AudioEncoding.MP3)\n",
    "\n",
    "  # Perform the text-to-speech request on the text input with the selected\n",
    "  # voice parameters and audio file type\n",
    "  response = client.synthesize_speech(\n",
    "        request={\"input\": synthesis_input, \"voice\": voice, \"audio_config\": audio_config}\n",
    "    )\n",
    "\n",
    "  # The response's audio_content is binary.\n",
    "  with open(f'audio/{result.text}.mp3', 'wb') as out:\n",
    "    # Write the response to the output file.\n",
    "    out.write(response.audio_content)\n",
    "    \n",
    "    \n",
    "    \n",
    "  return result.text,word\n"
   ]
  },
  {
   "cell_type": "code",
   "execution_count": 81,
   "metadata": {},
   "outputs": [],
   "source": [
    "wordgeneretaed,enword= create_audio_word('en','de')"
   ]
  },
  {
   "cell_type": "code",
   "execution_count": 3,
   "metadata": {},
   "outputs": [],
   "source": [
    "r = RandomWords()"
   ]
  },
  {
   "cell_type": "code",
   "execution_count": 8,
   "metadata": {},
   "outputs": [
    {
     "data": {
      "text/plain": [
       "['snarl',\n",
       " 'liquate',\n",
       " 'laicize',\n",
       " 'electropositive',\n",
       " 'geosynchronous',\n",
       " 'viewing',\n",
       " 'electioneering',\n",
       " 'confidentiality',\n",
       " 'vacuole',\n",
       " 'inexcusably']"
      ]
     },
     "execution_count": 8,
     "metadata": {},
     "output_type": "execute_result"
    }
   ],
   "source": [
    "r.get_random_words(hasDictionaryDef=\"true\", limit=10,  minDictionaryCount=3)"
   ]
  },
  {
   "cell_type": "markdown",
   "metadata": {},
   "source": []
  },
  {
   "cell_type": "markdown",
   "metadata": {},
   "source": [
    "- src: The source language\n",
    "- dest: Destination language, which is set to English (en)\n",
    "- origin: Original text, that is 'Mitä sinä teet' in our example\n",
    "- text: Translated text, that will be 'what are you doing?' in our case\n",
    "- pronunciation: Pronunciation of the translated text"
   ]
  },
  {
   "cell_type": "code",
   "execution_count": 129,
   "metadata": {},
   "outputs": [
    {
     "data": {
      "text/plain": [
       "'{\"word\": \"falsidical\", \"definations\": [{\"source\": \"century\", \"text\": \"Expressing falsehood; falsifying: opposed to veridical.\", \"note\": null, \"partOfSpeech\": \"adjective\"}, {\"source\": \"wiktionary\", \"text\": \"Having a false basis.\", \"note\": null, \"partOfSpeech\": \"adjective\"}]}'"
      ]
     },
     "execution_count": 129,
     "metadata": {},
     "output_type": "execute_result"
    }
   ],
   "source": [
    "r.word_of_the_day()"
   ]
  },
  {
   "cell_type": "code",
   "execution_count": 4,
   "metadata": {},
   "outputs": [],
   "source": [
    "def translatetext(text, src, dest):\n",
    "    translator = Translator()\n",
    "    result = translator.translate(text, src=src, dest=dest)\n",
    "    return result.text"
   ]
  },
  {
   "cell_type": "code",
   "execution_count": 6,
   "metadata": {},
   "outputs": [
    {
     "data": {
      "text/plain": [
       "'Kahretsin'"
      ]
     },
     "execution_count": 6,
     "metadata": {},
     "output_type": "execute_result"
    }
   ],
   "source": [
    "translatetext('Fuck','en','tr')"
   ]
  },
  {
   "cell_type": "markdown",
   "metadata": {},
   "source": [
    "## Telegram Bot COding"
   ]
  },
  {
   "cell_type": "markdown",
   "metadata": {},
   "source": [
    "- Updater: This will contain the API key we got from BotFather to specify in which bot we are adding functionalities to using our python code.\n",
    " - Update: This will invoke every time a bot receives an update i.e. message or command and will send the user a message.\n",
    "- CallbackContext: We will not use its functionality directly in our code but when we will be adding the dispatcher it is required (and it will work internally)\n",
    "- CommandHandler: This Handler class is used to handle any command sent by the user to the bot, a command always starts with “/” i.e “/start”,”/help” etc.\n",
    "- MessageHandler: This Handler class is used to handle any normal message sent by the user to the bot,\n",
    "- FIlters: This will filter normal text, commands, images, etc from a sent message."
   ]
  },
  {
   "cell_type": "code",
   "execution_count": 1,
   "metadata": {},
   "outputs": [],
   "source": [
    "import telebot\n",
    "\n",
    "import requests\n",
    "from bs4 import BeautifulSoup as bs\n",
    "from google.cloud import texttospeech\n",
    "import re\n",
    "from random_word import RandomWords\n",
    "\n",
    "import inflect\n",
    "import pandas\n",
    "\n",
    "\n",
    "\n",
    "import logging\n",
    "from telegram.ext import (\n",
    "    CommandHandler,\n",
    "    Updater,\n",
    "    MessageQueue,\n",
    "    MessageHandler,\n",
    "    Filters,\n",
    "    ExtBot,\n",
    "    Defaults,\n",
    "    ChatMemberHandler,\n",
    "    InlineQueryHandler,\n",
    "    CallbackContext,\n",
    "    CallbackQueryHandler,\n",
    "    ConversationHandler,\n",
    ")\n",
    "from telegram import (\n",
    "    ParseMode,\n",
    "    Bot,\n",
    "    \n",
    "    Update,\n",
    "    InlineKeyboardMarkup,\n",
    "    InlineKeyboardButton,\n",
    "    BotCommandScopeAllPrivateChats, \n",
    "    BotCommandScopeChat,\n",
    "    BotCommandScopeAllGroupChats,\n",
    "    BotCommandScopeChatAdministrators,\n",
    "    ReplyKeyboardMarkup\n",
    ")\n",
    "from typing import Tuple, Dict, Any\n",
    "from telebot import types\n",
    "\n",
    "import numpy\n",
    "import schedule\n",
    "import time\n",
    "import os"
   ]
  },
  {
   "cell_type": "code",
   "execution_count": 9,
   "metadata": {},
   "outputs": [],
   "source": [
    "#!/usr/bin/env python\n",
    "# pylint: disable=unused-argument\n",
    "# This program is dedicated to the public domain under the CC0 license.\n",
    "token = \"5390988406:AAGZpy9maBTXPphCxwNdqRjTib3uLCrme4U\"\n"
   ]
  },
  {
   "cell_type": "code",
   "execution_count": 10,
   "metadata": {},
   "outputs": [],
   "source": [
    "def dictionary(word):\n",
    "    url_merriam = 'https://www.merriam-webster.com/dictionary/'\n",
    "    \n",
    "    page = requests.get(url_merriam+ word)\n",
    "    soup = bs(page.content, 'html.parser')\n",
    "    m = soup.find_all('span', class_='dtText')[:3]\n",
    "    \n",
    "    if m == []:\n",
    "        m = soup.find('p',class_='spelling-suggestion-text')\n",
    "        return m.text\n",
    "    else:\n",
    "        return [c.text.split(':')[1] for c in m]\n"
   ]
  },
  {
   "cell_type": "code",
   "execution_count": 11,
   "metadata": {},
   "outputs": [
    {
     "name": "stderr",
     "output_type": "stream",
     "text": [
      "2022-05-07 23:01:19,491 - apscheduler.scheduler - INFO - Scheduler started\n",
      "2022-05-07 23:01:41,268 - telegram.ext.dispatcher - ERROR - No error handlers are registered, logging exception.\n",
      "Traceback (most recent call last):\n",
      "  File \"c:\\Users\\emreb\\.conda\\envs\\telegramdicti\\lib\\site-packages\\telegram\\ext\\dispatcher.py\", line 555, in process_update\n",
      "    handler.handle_update(update, self, check, context)\n",
      "  File \"c:\\Users\\emreb\\.conda\\envs\\telegramdicti\\lib\\site-packages\\telegram\\ext\\handler.py\", line 198, in handle_update\n",
      "    return self.callback(update, context)\n",
      "  File \"C:\\Users\\emreb\\AppData\\Local\\Temp\\ipykernel_24612\\1103621107.py\", line 37, in dictitele\n",
      "    update.send_message(update.chat.id, 'Give me the word YOu want to see definition')\n",
      "AttributeError: 'Update' object has no attribute 'send_message'\n",
      "2022-05-07 23:02:28,581 - telegram.ext.dispatcher - ERROR - No error handlers are registered, logging exception.\n",
      "Traceback (most recent call last):\n",
      "  File \"c:\\Users\\emreb\\.conda\\envs\\telegramdicti\\lib\\site-packages\\telegram\\ext\\dispatcher.py\", line 555, in process_update\n",
      "    handler.handle_update(update, self, check, context)\n",
      "  File \"c:\\Users\\emreb\\.conda\\envs\\telegramdicti\\lib\\site-packages\\telegram\\ext\\handler.py\", line 198, in handle_update\n",
      "    return self.callback(update, context)\n",
      "  File \"C:\\Users\\emreb\\AppData\\Local\\Temp\\ipykernel_24612\\1103621107.py\", line 37, in dictitele\n",
      "    update.send_message(update.chat.id, 'Give me the word YOu want to see definition')\n",
      "AttributeError: 'Update' object has no attribute 'send_message'\n"
     ]
    }
   ],
   "source": [
    "\n",
    "# structure will be constituded in the following way\n",
    "\n",
    "token = \"5390988406:AAGZpy9maBTXPphCxwNdqRjTib3uLCrme4U\"\n",
    "logging.basicConfig(\n",
    "    format='%(asctime)s - %(name)s - %(levelname)s - %(message)s', level=logging.INFO\n",
    ")\n",
    "\n",
    "\n",
    "m_help = \"You can use the following commands:\\n\"\\\n",
    "\"/practiceword : First select the destination language then select the right answer\\n\"\\\n",
    "\"/practicenumber : First select the destination language then select the hardness level of the practice then guess the right answer\\n\"\\\n",
    "\"/dictionary : English dictioanary give the word you want to see definition.\\n\"\\\n",
    "\"/translate : Translates the text you enter. select destination and source languages \\n\"\\\n",
    "\n",
    "logger = logging.getLogger(__name__)\n",
    "level = ['1','2','3']\n",
    "\n",
    "markup = ReplyKeyboardMarkup(level, one_time_keyboard=True)\n",
    "\n",
    "def start(update: Update, context: CallbackContext):\n",
    "\n",
    "    \"\"\"Start the conversation and ask user for input.\"\"\"\n",
    "    update.message.reply_text(\n",
    "    \"Hi! My name is Doctor Botter. I will hold a more complex conversation with you. \"\n",
    "    \"Why don't you tell me something about yourself?\",\n",
    "    reply_markup=markup,\n",
    ")\n",
    "\n",
    "\n",
    "def help(update: Update, context: CallbackContext):\n",
    "    \"\"\"Send a message when the command /help is issued.\"\"\"\n",
    "    update.message.reply_text(m_help)\n",
    "    \n",
    "    \n",
    "def dictitele(update: Update, context: CallbackContext):\n",
    "    \n",
    "    update.send_message(update.chat.id, 'Give me the word YOu want to see definition')\n",
    "    message_id = update.message.message_id\n",
    "    # replytext = update.message.text\n",
    "    \"\"\"Send a message when the command /help is issued.\"\"\"\n",
    "    def send_message(update: Update, context: CallbackContext):\n",
    "        replytext = dictionary(update.message.text)\n",
    "        update.message.reply_to_message_id(message_id, replytext)\n",
    "        \n",
    "\n",
    "def main():\n",
    "    \"\"\"Main.\"\"\"\n",
    "\n",
    "    updater = Updater(token)\n",
    "    dispatcher = updater.dispatcher\n",
    "\n",
    "    dispatcher.add_handler(CommandHandler(\"start\", start))\n",
    "    dispatcher.add_handler(CommandHandler(\"help\", help))\n",
    "\n",
    "\n",
    "    # dispatcher.add_handler(CommandHandler(\"practiceword\", create_audio_word))\n",
    "    # dispatcher.add_handler(CommandHandler(\"practicenumber\", create_audio_number))\n",
    "    dispatcher.add_handler(CommandHandler(\"dictionary\", dictitele))\n",
    "    # dispatcher.add_handler(CommandHandler(\"translate\", translatetext))\n",
    "\n",
    "    updater.start_polling()\n",
    "    \n",
    "    while True:\n",
    "        schedule.run_pending()\n",
    "        # The sleep prevents the CPU to work unnecessarily.\n",
    "        time.sleep(1)\n",
    "\n",
    "\n",
    "    # Declaration of the schedule\n",
    "    # schedule.every().day.at(deliver_time).do(job)\n",
    "if __name__ == \"__main__\":\n",
    "    main()"
   ]
  },
  {
   "cell_type": "code",
   "execution_count": 2,
   "metadata": {},
   "outputs": [
    {
     "name": "stderr",
     "output_type": "stream",
     "text": [
      "c:\\Users\\emreb\\.conda\\envs\\telegramdicti\\lib\\site-packages\\telegram\\ext\\conversationhandler.py:287: UserWarning: If 'per_message=False', 'CallbackQueryHandler' will not be tracked for every message.\n",
      "  warnings.warn(\n",
      "2022-05-07 23:32:44,154 - apscheduler.scheduler - INFO - Scheduler started\n",
      "2022-05-07 23:32:50,326 - __main__ - INFO - User Emre started the conversation.\n"
     ]
    }
   ],
   "source": [
    "token = \"5390988406:AAGZpy9maBTXPphCxwNdqRjTib3uLCrme4U\"\n",
    "logging.basicConfig(\n",
    "    format='%(asctime)s - %(name)s - %(levelname)s - %(message)s', level=logging.INFO\n",
    ")\n",
    "\n",
    "\n",
    "m_help = \"You can use the following commands:\\n\"\\\n",
    "\"/practiceword : First select the destination language then select the right answer\\n\"\\\n",
    "\"/practicenumber : First select the destination language then select the hardness level of the practice then guess the right answer\\n\"\\\n",
    "\"/dictionary : English dictioanary give the word you want to see definition.\\n\"\\\n",
    "\"/translate : Translates the text you enter. select destination and source languages \\n\"\\\n",
    "\n",
    "logger = logging.getLogger(__name__)\n",
    "\n",
    "# Stages\n",
    "FIRST, SECOND = range(2)\n",
    "# Callback data\n",
    "ONE, TWO, THREE, FOUR = range(4)\n",
    "\n",
    "\n",
    "def start(update: Update, context: CallbackContext) -> int:\n",
    "    \"\"\"Send message on `/start`.\"\"\"\n",
    "    # Get user that sent /start and log his name\n",
    "    user = update.message.from_user\n",
    "    logger.info(\"User %s started the conversation.\", user.first_name)\n",
    "    # Build InlineKeyboard where each button has a displayed text\n",
    "    # and a string as callback_data\n",
    "    # The keyboard is a list of button rows, where each row is in turn\n",
    "    # a list (hence `[[...]]`).\n",
    "    keyboard = [\n",
    "        [\n",
    "            InlineKeyboardButton(\"1\", callback_data=str(ONE)),\n",
    "            InlineKeyboardButton(\"2\", callback_data=str(TWO)),\n",
    "        ]\n",
    "    ]\n",
    "    reply_markup = InlineKeyboardMarkup(keyboard)\n",
    "    # Send message with text and appended InlineKeyboard\n",
    "    update.message.reply_text(\"Start handler, Choose a route\", reply_markup=reply_markup)\n",
    "    # Tell ConversationHandler that we're in state `FIRST` now\n",
    "    return FIRST\n",
    "    \n",
    "def help(bot, update):\n",
    "    \"\"\"Displays the standard commands.\"\"\"\n",
    "\n",
    "    bot.sendMessage(chat_id=update.message.chat_id, text=m_help,\n",
    "                    parse_mode=ParseMode.MARKDOWN)\n",
    "\n",
    "def start_over(update: Update, context: CallbackContext) -> int:\n",
    "    \"\"\"Prompt same text & keyboard as `start` does but not as new message\"\"\"\n",
    "    # Get CallbackQuery from Update\n",
    "    query = update.callback_query\n",
    "    # CallbackQueries need to be answered, even if no notification to the user is needed\n",
    "    # Some clients may have trouble otherwise. See https://core.telegram.org/bots/api#callbackquery\n",
    "    query.answer()\n",
    "    keyboard = [\n",
    "        [\n",
    "            InlineKeyboardButton(\"1\", callback_data=str(ONE)),\n",
    "            InlineKeyboardButton(\"2\", callback_data=str(TWO)),\n",
    "        ]\n",
    "    ]\n",
    "    reply_markup = InlineKeyboardMarkup(keyboard)\n",
    "    # Instead of sending a new message, edit the message that\n",
    "    # originated the CallbackQuery. This gives the feeling of an\n",
    "    # interactive menu.\n",
    "    query.edit_message_text(text=\"Start handler, Choose a route\", reply_markup=reply_markup)\n",
    "    return FIRST\n",
    "\n",
    "\n",
    "def one(update: Update, context: CallbackContext) -> int:\n",
    "    \"\"\"Show new choice of buttons\"\"\"\n",
    "    query = update.callback_query\n",
    "    query.answer()\n",
    "    keyboard = [\n",
    "        [\n",
    "            InlineKeyboardButton(\"3\", callback_data=str(THREE)),\n",
    "            InlineKeyboardButton(\"4\", callback_data=str(FOUR)),\n",
    "        ]\n",
    "    ]\n",
    "    reply_markup = InlineKeyboardMarkup(keyboard)\n",
    "    query.edit_message_text(\n",
    "        text=\"First CallbackQueryHandler, Choose a route\", reply_markup=reply_markup\n",
    "    )\n",
    "    return FIRST\n",
    "\n",
    "\n",
    "def two(update: Update, context: CallbackContext) -> int:\n",
    "    \"\"\"Show new choice of buttons\"\"\"\n",
    "    query = update.callback_query\n",
    "    query.answer()\n",
    "    keyboard = [\n",
    "        [\n",
    "            InlineKeyboardButton(\"1\", callback_data=str(ONE)),\n",
    "            InlineKeyboardButton(\"3\", callback_data=str(THREE)),\n",
    "        ]\n",
    "    ]\n",
    "    reply_markup = InlineKeyboardMarkup(keyboard)\n",
    "    query.edit_message_text(\n",
    "        text=\"Second CallbackQueryHandler, Choose a route\", reply_markup=reply_markup\n",
    "    )\n",
    "    return FIRST\n",
    "\n",
    "\n",
    "def three(update: Update, context: CallbackContext) -> int:\n",
    "    \"\"\"Show new choice of buttons\"\"\"\n",
    "    query = update.callback_query\n",
    "    query.answer()\n",
    "    keyboard = [\n",
    "        [\n",
    "            InlineKeyboardButton(\"Yes, let's do it again!\", callback_data=str(ONE)),\n",
    "            InlineKeyboardButton(\"Nah, I've had enough ...\", callback_data=str(TWO)),\n",
    "        ]\n",
    "    ]\n",
    "    reply_markup = InlineKeyboardMarkup(keyboard)\n",
    "    query.edit_message_text(\n",
    "        text=\"Third CallbackQueryHandler. Do want to start over?\", reply_markup=reply_markup\n",
    "    )\n",
    "    # Transfer to conversation state `SECOND`\n",
    "    return SECOND\n",
    "\n",
    "\n",
    "def four(update: Update, context: CallbackContext) -> int:\n",
    "    \"\"\"Show new choice of buttons\"\"\"\n",
    "    query = update.callback_query\n",
    "    query.answer()\n",
    "    keyboard = [\n",
    "        [\n",
    "            InlineKeyboardButton(\"2\", callback_data=str(TWO)),\n",
    "            InlineKeyboardButton(\"3\", callback_data=str(THREE)),\n",
    "        ]\n",
    "    ]\n",
    "    reply_markup = InlineKeyboardMarkup(keyboard)\n",
    "    query.edit_message_text(\n",
    "        text=\"Fourth CallbackQueryHandler, Choose a route\", reply_markup=reply_markup\n",
    "    )\n",
    "    return FIRST\n",
    "\n",
    "\n",
    "def end(update: Update, context: CallbackContext) -> int:\n",
    "    \"\"\"Returns `ConversationHandler.END`, which tells the\n",
    "    ConversationHandler that the conversation is over.\n",
    "    \"\"\"\n",
    "    query = update.callback_query\n",
    "    query.answer()\n",
    "    query.edit_message_text(text=\"See you next time!\")\n",
    "    return ConversationHandler.END\n",
    "\n",
    "\n",
    "def main() -> None:\n",
    "    \"\"\"Run the bot.\"\"\"\n",
    "    # Create the Updater and pass it your bot's token.\n",
    "    updater = Updater(token)\n",
    "\n",
    "    # Get the dispatcher to register handlers\n",
    "    dispatcher = updater.dispatcher\n",
    "\n",
    "    # Setup conversation handler with the states FIRST and SECOND\n",
    "    # Use the pattern parameter to pass CallbackQueries with specific\n",
    "    # data pattern to the corresponding handlers.\n",
    "    # ^ means \"start of line/string\"\n",
    "    # $ means \"end of line/string\"\n",
    "    # So ^ABC$ will only allow 'ABC'\n",
    "    conv_handler = ConversationHandler(\n",
    "        entry_points=[CommandHandler('start', start)],\n",
    "        states={\n",
    "            FIRST: [\n",
    "                CallbackQueryHandler(one, pattern='^' + str(ONE) + '$'),\n",
    "                CallbackQueryHandler(two, pattern='^' + str(TWO) + '$'),\n",
    "                CallbackQueryHandler(three, pattern='^' + str(THREE) + '$'),\n",
    "                CallbackQueryHandler(four, pattern='^' + str(FOUR) + '$'),\n",
    "            ],\n",
    "            SECOND: [\n",
    "                CallbackQueryHandler(start_over, pattern='^' + str(ONE) + '$'),\n",
    "                CallbackQueryHandler(end, pattern='^' + str(TWO) + '$'),\n",
    "            ],\n",
    "        },\n",
    "        fallbacks=[CommandHandler('start', start)],\n",
    "    )\n",
    "\n",
    "    # Add ConversationHandler to dispatcher that will be used for handling updates\n",
    "    dispatcher.add_handler(conv_handler)\n",
    "\n",
    "    # Start the Bot\n",
    "    updater.start_polling()\n",
    "\n",
    "    # Run the bot until you press Ctrl-C or the process receives SIGINT,\n",
    "    # SIGTERM or SIGABRT. This should be used most of the time, since\n",
    "    # start_polling() is non-blocking and will stop the bot gracefully.\n",
    "    updater.idle()\n",
    "\n",
    "\n",
    "if __name__ == '__main__':\n",
    "    main()"
   ]
  },
  {
   "cell_type": "code",
   "execution_count": 6,
   "metadata": {},
   "outputs": [],
   "source": [
    "CHOOSING, TYPING_REPLY, TYPING_CHOICE = range(3)"
   ]
  },
  {
   "cell_type": "code",
   "execution_count": 7,
   "metadata": {},
   "outputs": [
    {
     "data": {
      "text/plain": [
       "0"
      ]
     },
     "execution_count": 7,
     "metadata": {},
     "output_type": "execute_result"
    }
   ],
   "source": [
    "CHOOSING"
   ]
  },
  {
   "cell_type": "code",
   "execution_count": null,
   "metadata": {},
   "outputs": [],
   "source": [
    "# Strings that store the message for each command.\n",
    "m_start = \"Welcome to Trebal's daily book bot. This bot is made to \"\\\n",
    "\"notify you everyday about the free daily book from PacktPub.\\n\"\\\n",
    "\"You can use the command /book to get the information of today's book.\"\\\n",
    "\"Use /help to know all the available commands.\"\n",
    "\n",
    "m_about = \"This bot has been created by *Ramon de Llano Chamorro*, from \"\\\n",
    "\"Universitat de Lleida, as a learning assignment.\\n▫️_Version: 1.2\\nAdded \"\\\n",
    "\"new commands: subs, help, debug and bcastbook._\"\n",
    "\n",
    "m_help = \"You can use the following commands:\\n\"\\\n",
    "\"/start : Initializes the bot and welcomes you.\\n\"\\\n",
    "\"/book : Displays the daily book.\\n\"\\\n",
    "\"/subs : Displays the number of users using the bot.\\n\"\n",
    "\n",
    "# This list stores all the users that use the bot.\n",
    "user_id = []\n",
    "token = \"5388005230:AAELiP2zUSkHlGNp6txQbHrB8_WYnaZxTZ4\"\n",
    "bot = telebot.TeleBot(\"5388005230:AAELiP2zUSkHlGNp6txQbHrB8_WYnaZxTZ4\")\n",
    "# ==================== USER FUNCTIONS ==========================================\n",
    "def start(bot, update,context: CallbackContext):\n",
    "    \"\"\"The default start command, used in most bots. It welcomes the user and\n",
    "    guides him to the usage of the bot.\"\"\"\n",
    "\n",
    "    uid = update.message.chat_id\n",
    "    bot.sendMessage(chat_id=uid, text=m_start)\n",
    "\n",
    "    # add_user(uid)\n",
    "\n",
    "def help(bot, update):\n",
    "    \"\"\"Displays the standard commands.\"\"\"\n",
    "\n",
    "    bot.sendMessage(chat_id=update.message.chat_id, text=m_help,\n",
    "                    parse_mode=ParseMode.MARKDOWN)\n",
    "\n",
    "def about(bot, update):\n",
    "    \"\"\"The about command is used to display the information of the bot.\"\"\"\n",
    "\n",
    "    bot.sendMessage(chat_id=update.message.chat_id, text=m_about,\n",
    "                    parse_mode=ParseMode.MARKDOWN)\n",
    "\n",
    "def translator(bot, update):\n",
    "    \"\"\"The main command, used to get the information of the book, previously\n",
    "    retrieved from the scraper.\"\"\"\n",
    "\n",
    "    message = translatetext()\n",
    "\n",
    "    bot.sendMessage(chat_id=update.message.chat_id, text=message,\n",
    "                    parse_mode=ParseMode.MARKDOWN)\n",
    "\n",
    "def dictionarymessage(bot, update):\n",
    "    \"\"\"Displays the number of the bot users.\"\"\"\n",
    "    \n",
    "\n",
    "    message = dictionary()\n",
    "    bot.sendMessage(chat_id=update.message.chat_id, text=message)\n",
    "\n",
    "# ==================== ADMIN FUNCTIONS =========================================\n",
    "# def scrape(bot, update):\n",
    "#     \"\"\"Scrapes the data from the web, calling the scraper.\"\"\"\n",
    "\n",
    "#     # Calls the scraper from the host terminal.\n",
    "#     os.system(\"python scraper.py\")\n",
    "#     bot.sendMessage(chat_id=update.message.chat_id,\n",
    "#                     text=\"Data scraped successfully\",\n",
    "#                     parse_mode=ParseMode.MARKDOWN)\n",
    "\n",
    "    # def bcast_book(bot, update):\n",
    "    #     \"\"\"Broadcasts the daily book\"\"\"\n",
    "\n",
    "    #     broadcast(get_book_data())\n",
    "\n",
    "def debug(bot, update):\n",
    "    \"\"\"A wildcard function that is used to print information during the\n",
    "    development of the program, which vary over the time.\"\"\"\n",
    "\n",
    "    message = f\"User ID: {str(user_id[0])}\"\n",
    "    bot.sendMessage(chat_id=update.message.chat_id, text=message)\n",
    "\n",
    "    bot.sendMessage(chat_id=update.message.chat_id, text=message,\n",
    "                    parse_mode=ParseMode.MARKDOWN)\n",
    "def main():\n",
    "    \"\"\"Main.\"\"\"\n",
    "\n",
    "    updater = Updater(token)\n",
    "    dispatcher = updater.dispatcher\n",
    "\n",
    "    dispatcher.add_handler(CommandHandler(\"start\", start))\n",
    "    dispatcher.add_handler(CommandHandler(\"help\", help))\n",
    "    dispatcher.add_handler(CommandHandler(\"about\", about))\n",
    "    dispatcher.add_handler(CommandHandler(\"translator\", translator))\n",
    "    dispatcher.add_handler(CommandHandler(\"dictioanry\", dictionarymessage))\n",
    "\n",
    "    # dispatcher.add_handler(CommandHandler(\"scrape\", scrape))\n",
    "    # dispatcher.add_handler(CommandHandler(\"bcast_book\", bcast_book))\n",
    "    # dispatcher.add_handler(CommandHandler(\"debug\", debug))\n",
    "\n",
    "    updater.start_polling()\n",
    "\n",
    "    # Declaration of the schedule\n",
    "    # schedule.every().day.at(deliver_time).do(job)\n",
    "\n",
    "    while True:\n",
    "        schedule.run_pending()\n",
    "        # The sleep prevents the CPU to work unnecessarily.\n",
    "        time.sleep(1)\n",
    "\n",
    "if __name__ == \"__main__\":\n",
    "    main()"
   ]
  },
  {
   "cell_type": "code",
   "execution_count": 2,
   "metadata": {},
   "outputs": [
    {
     "name": "stderr",
     "output_type": "stream",
     "text": [
      "2022-04-28 22:48:47,826 (__init__.py:573 MainThread) ERROR - TeleBot: \"Infinity polling exception: name 'np' is not defined\"\n",
      "ERROR - Infinity polling exception: name 'np' is not defined\n",
      "2022-04-28 22:48:47,839 (__init__.py:575 MainThread) ERROR - TeleBot: \"Exception traceback:\n",
      "Traceback (most recent call last):\n",
      "  File \"c:\\Users\\emreb\\.conda\\envs\\telegramdicti\\lib\\site-packages\\telebot\\__init__.py\", line 569, in infinity_polling\n",
      "    self.polling(none_stop=True, timeout=timeout, long_polling_timeout=long_polling_timeout,\n",
      "  File \"c:\\Users\\emreb\\.conda\\envs\\telegramdicti\\lib\\site-packages\\telebot\\__init__.py\", line 618, in polling\n",
      "    self.__threaded_polling(non_stop, interval, timeout, long_polling_timeout, allowed_updates)\n",
      "  File \"c:\\Users\\emreb\\.conda\\envs\\telegramdicti\\lib\\site-packages\\telebot\\__init__.py\", line 680, in __threaded_polling\n",
      "    raise e\n",
      "  File \"c:\\Users\\emreb\\.conda\\envs\\telegramdicti\\lib\\site-packages\\telebot\\__init__.py\", line 640, in __threaded_polling\n",
      "    self.worker_pool.raise_exceptions()\n",
      "  File \"c:\\Users\\emreb\\.conda\\envs\\telegramdicti\\lib\\site-packages\\telebot\\util.py\", line 143, in raise_exceptions\n",
      "    raise self.exception_info\n",
      "  File \"c:\\Users\\emreb\\.conda\\envs\\telegramdicti\\lib\\site-packages\\telebot\\util.py\", line 89, in run\n",
      "    task(*args, **kwargs)\n",
      "  File \"C:\\Users\\emreb\\AppData\\Local\\Temp\\ipykernel_7636\\22839227.py\", line 43, in number_options\n",
      "    fake_button = np.random.randint(1,100)\n",
      "NameError: name 'np' is not defined\n",
      "\"\n",
      "ERROR - Exception traceback:\n",
      "Traceback (most recent call last):\n",
      "  File \"c:\\Users\\emreb\\.conda\\envs\\telegramdicti\\lib\\site-packages\\telebot\\__init__.py\", line 569, in infinity_polling\n",
      "    self.polling(none_stop=True, timeout=timeout, long_polling_timeout=long_polling_timeout,\n",
      "  File \"c:\\Users\\emreb\\.conda\\envs\\telegramdicti\\lib\\site-packages\\telebot\\__init__.py\", line 618, in polling\n",
      "    self.__threaded_polling(non_stop, interval, timeout, long_polling_timeout, allowed_updates)\n",
      "  File \"c:\\Users\\emreb\\.conda\\envs\\telegramdicti\\lib\\site-packages\\telebot\\__init__.py\", line 680, in __threaded_polling\n",
      "    raise e\n",
      "  File \"c:\\Users\\emreb\\.conda\\envs\\telegramdicti\\lib\\site-packages\\telebot\\__init__.py\", line 640, in __threaded_polling\n",
      "    self.worker_pool.raise_exceptions()\n",
      "  File \"c:\\Users\\emreb\\.conda\\envs\\telegramdicti\\lib\\site-packages\\telebot\\util.py\", line 143, in raise_exceptions\n",
      "    raise self.exception_info\n",
      "  File \"c:\\Users\\emreb\\.conda\\envs\\telegramdicti\\lib\\site-packages\\telebot\\util.py\", line 89, in run\n",
      "    task(*args, **kwargs)\n",
      "  File \"C:\\Users\\emreb\\AppData\\Local\\Temp\\ipykernel_7636\\22839227.py\", line 43, in number_options\n",
      "    fake_button = np.random.randint(1,100)\n",
      "NameError: name 'np' is not defined\n",
      "\n",
      "2022-04-28 22:48:50,916 (__init__.py:573 MainThread) ERROR - TeleBot: \"Infinity polling exception: name 'np' is not defined\"\n",
      "ERROR - Infinity polling exception: name 'np' is not defined\n",
      "2022-04-28 22:48:50,919 (__init__.py:575 MainThread) ERROR - TeleBot: \"Exception traceback:\n",
      "Traceback (most recent call last):\n",
      "  File \"c:\\Users\\emreb\\.conda\\envs\\telegramdicti\\lib\\site-packages\\telebot\\__init__.py\", line 569, in infinity_polling\n",
      "    self.polling(none_stop=True, timeout=timeout, long_polling_timeout=long_polling_timeout,\n",
      "  File \"c:\\Users\\emreb\\.conda\\envs\\telegramdicti\\lib\\site-packages\\telebot\\__init__.py\", line 618, in polling\n",
      "    self.__threaded_polling(non_stop, interval, timeout, long_polling_timeout, allowed_updates)\n",
      "  File \"c:\\Users\\emreb\\.conda\\envs\\telegramdicti\\lib\\site-packages\\telebot\\__init__.py\", line 680, in __threaded_polling\n",
      "    raise e\n",
      "  File \"c:\\Users\\emreb\\.conda\\envs\\telegramdicti\\lib\\site-packages\\telebot\\__init__.py\", line 640, in __threaded_polling\n",
      "    self.worker_pool.raise_exceptions()\n",
      "  File \"c:\\Users\\emreb\\.conda\\envs\\telegramdicti\\lib\\site-packages\\telebot\\util.py\", line 143, in raise_exceptions\n",
      "    raise self.exception_info\n",
      "  File \"c:\\Users\\emreb\\.conda\\envs\\telegramdicti\\lib\\site-packages\\telebot\\util.py\", line 89, in run\n",
      "    task(*args, **kwargs)\n",
      "  File \"C:\\Users\\emreb\\AppData\\Local\\Temp\\ipykernel_7636\\22839227.py\", line 43, in number_options\n",
      "    fake_button = np.random.randint(1,100)\n",
      "NameError: name 'np' is not defined\n",
      "\"\n",
      "ERROR - Exception traceback:\n",
      "Traceback (most recent call last):\n",
      "  File \"c:\\Users\\emreb\\.conda\\envs\\telegramdicti\\lib\\site-packages\\telebot\\__init__.py\", line 569, in infinity_polling\n",
      "    self.polling(none_stop=True, timeout=timeout, long_polling_timeout=long_polling_timeout,\n",
      "  File \"c:\\Users\\emreb\\.conda\\envs\\telegramdicti\\lib\\site-packages\\telebot\\__init__.py\", line 618, in polling\n",
      "    self.__threaded_polling(non_stop, interval, timeout, long_polling_timeout, allowed_updates)\n",
      "  File \"c:\\Users\\emreb\\.conda\\envs\\telegramdicti\\lib\\site-packages\\telebot\\__init__.py\", line 680, in __threaded_polling\n",
      "    raise e\n",
      "  File \"c:\\Users\\emreb\\.conda\\envs\\telegramdicti\\lib\\site-packages\\telebot\\__init__.py\", line 640, in __threaded_polling\n",
      "    self.worker_pool.raise_exceptions()\n",
      "  File \"c:\\Users\\emreb\\.conda\\envs\\telegramdicti\\lib\\site-packages\\telebot\\util.py\", line 143, in raise_exceptions\n",
      "    raise self.exception_info\n",
      "  File \"c:\\Users\\emreb\\.conda\\envs\\telegramdicti\\lib\\site-packages\\telebot\\util.py\", line 89, in run\n",
      "    task(*args, **kwargs)\n",
      "  File \"C:\\Users\\emreb\\AppData\\Local\\Temp\\ipykernel_7636\\22839227.py\", line 43, in number_options\n",
      "    fake_button = np.random.randint(1,100)\n",
      "NameError: name 'np' is not defined\n",
      "\n",
      "2022-04-28 22:48:53,927 (__init__.py:573 MainThread) ERROR - TeleBot: \"Infinity polling exception: name 'np' is not defined\"\n",
      "ERROR - Infinity polling exception: name 'np' is not defined\n",
      "2022-04-28 22:48:53,932 (__init__.py:575 MainThread) ERROR - TeleBot: \"Exception traceback:\n",
      "Traceback (most recent call last):\n",
      "  File \"c:\\Users\\emreb\\.conda\\envs\\telegramdicti\\lib\\site-packages\\telebot\\__init__.py\", line 569, in infinity_polling\n",
      "    self.polling(none_stop=True, timeout=timeout, long_polling_timeout=long_polling_timeout,\n",
      "  File \"c:\\Users\\emreb\\.conda\\envs\\telegramdicti\\lib\\site-packages\\telebot\\__init__.py\", line 618, in polling\n",
      "    self.__threaded_polling(non_stop, interval, timeout, long_polling_timeout, allowed_updates)\n",
      "  File \"c:\\Users\\emreb\\.conda\\envs\\telegramdicti\\lib\\site-packages\\telebot\\__init__.py\", line 680, in __threaded_polling\n",
      "    raise e\n",
      "  File \"c:\\Users\\emreb\\.conda\\envs\\telegramdicti\\lib\\site-packages\\telebot\\__init__.py\", line 640, in __threaded_polling\n",
      "    self.worker_pool.raise_exceptions()\n",
      "  File \"c:\\Users\\emreb\\.conda\\envs\\telegramdicti\\lib\\site-packages\\telebot\\util.py\", line 143, in raise_exceptions\n",
      "    raise self.exception_info\n",
      "  File \"c:\\Users\\emreb\\.conda\\envs\\telegramdicti\\lib\\site-packages\\telebot\\util.py\", line 89, in run\n",
      "    task(*args, **kwargs)\n",
      "  File \"C:\\Users\\emreb\\AppData\\Local\\Temp\\ipykernel_7636\\22839227.py\", line 43, in number_options\n",
      "    fake_button = np.random.randint(1,100)\n",
      "NameError: name 'np' is not defined\n",
      "\"\n",
      "ERROR - Exception traceback:\n",
      "Traceback (most recent call last):\n",
      "  File \"c:\\Users\\emreb\\.conda\\envs\\telegramdicti\\lib\\site-packages\\telebot\\__init__.py\", line 569, in infinity_polling\n",
      "    self.polling(none_stop=True, timeout=timeout, long_polling_timeout=long_polling_timeout,\n",
      "  File \"c:\\Users\\emreb\\.conda\\envs\\telegramdicti\\lib\\site-packages\\telebot\\__init__.py\", line 618, in polling\n",
      "    self.__threaded_polling(non_stop, interval, timeout, long_polling_timeout, allowed_updates)\n",
      "  File \"c:\\Users\\emreb\\.conda\\envs\\telegramdicti\\lib\\site-packages\\telebot\\__init__.py\", line 680, in __threaded_polling\n",
      "    raise e\n",
      "  File \"c:\\Users\\emreb\\.conda\\envs\\telegramdicti\\lib\\site-packages\\telebot\\__init__.py\", line 640, in __threaded_polling\n",
      "    self.worker_pool.raise_exceptions()\n",
      "  File \"c:\\Users\\emreb\\.conda\\envs\\telegramdicti\\lib\\site-packages\\telebot\\util.py\", line 143, in raise_exceptions\n",
      "    raise self.exception_info\n",
      "  File \"c:\\Users\\emreb\\.conda\\envs\\telegramdicti\\lib\\site-packages\\telebot\\util.py\", line 89, in run\n",
      "    task(*args, **kwargs)\n",
      "  File \"C:\\Users\\emreb\\AppData\\Local\\Temp\\ipykernel_7636\\22839227.py\", line 43, in number_options\n",
      "    fake_button = np.random.randint(1,100)\n",
      "NameError: name 'np' is not defined\n",
      "\n",
      "2022-04-28 22:48:59,952 (__init__.py:579 MainThread) ERROR - TeleBot: \"Infinity polling: polling exited\"\n",
      "ERROR - Infinity polling: polling exited\n",
      "2022-04-28 22:48:59,955 (__init__.py:581 MainThread) ERROR - TeleBot: \"Break infinity polling\"\n",
      "ERROR - Break infinity polling\n"
     ]
    }
   ],
   "source": [
    "bot = telebot.TeleBot(\"5388005230:AAELiP2zUSkHlGNp6txQbHrB8_WYnaZxTZ4\")\n",
    "logging.basicConfig(level=logging.DEBUG,\n",
    "                    format='%(levelname)s - %(message)s')\n",
    "logger = logging.getLogger()\n",
    "logger.setLevel(logging.ERROR)\n",
    "@bot.message_handler(commands=['start', 'help'])\n",
    "def send_welcome(message):\n",
    "\tbot.reply_to(message, \"Howdy, how are you doing?\")\n",
    "@bot.message_handler(commands = ['practice', 'dictionary', 'translate',], content_types=['text','number','voice'])\n",
    "def default_message_handler(message):\n",
    "    if message.new_chat_member or not message.text:\n",
    "        return\n",
    "# @bot.message_handler(func=lambda message: True)\n",
    "# def echo_all(message):\n",
    "# \t# bot.reply_to(message, message.text)\n",
    "#     markup = types.ReplyKeyboardMarkup(row_width=2)\n",
    "    \n",
    "#     itembtn1 = types.KeyboardButton('de')\n",
    "#     itembtn2 = types.KeyboardButton('en')\n",
    "#     itembtn3 = types.KeyboardButton('es')\n",
    "#     itembtn4 = types.KeyboardButton('tr')\n",
    "#     itembtn5 = types.KeyboardButton('fr')\n",
    "#     itembtn6 = types.KeyboardButton(f'{numberpractice}')\n",
    "#     markup.add(itembtn1, itembtn2, itembtn3)\n",
    "#     # bot.send_message(message.chat.id, \"Choose:\", reply_markup=markup)\n",
    "#     bot.send_message(message.chat.id, \"Choose one letter:\", reply_markup=markup)\n",
    "\n",
    "def select_language(update: Updater, context: CallbackContext):\n",
    "    keyboard = [\n",
    "        [\n",
    "            InlineKeyboardButton('German', callback_data='select_language'),   \n",
    "            InlineKeyboardButton('French', callback_data='select_language'),   \n",
    "            InlineKeyboardButton('ITalian', callback_data='select_language'),   \n",
    "            \n",
    "        ]\n",
    "    ]\n",
    "\n",
    "\n",
    "@bot.message_handler(func=lambda message: True)\n",
    "def number_options(message):\n",
    "\t# bot.reply_to(message, message.text)\n",
    "    markup = types.ReplyKeyboardMarkup(row_width=2)\n",
    "    fake_button = np.random.randint(1,100)\n",
    "    itembtn1 = types.KeyboardButton(fake_button)\n",
    "    itembtn2 = types.KeyboardButton('en')\n",
    "    itembtn3 = types.KeyboardButton('es')\n",
    "    itembtn4 = types.KeyboardButton('tr')\n",
    "    itembtn5 = types.KeyboardButton(number_button)\n",
    "    itembtn6 = types.KeyboardButton(f'{numberpractice}')\n",
    "    markup.add(itembtn1, itembtn2, itembtn3,itembtn6)\n",
    "    # bot.send_message(message.chat.id, \"Choose:\", reply_markup=markup)\n",
    "    bot.send_message(message.chat.id, \"Choose one letter:\", reply_markup=markup)\n",
    "def main() -> None:\n",
    "    config = configparser.ConfigParser()\n",
    "    config.read(\"bot.ini\")\n",
    "\n",
    "    defaults = Defaults(parse_mode=ParseMode.HTML, disable_web_page_preview=True)\n",
    "    updater = Updater(token=config[\"KEYS\"][\"bot_api\"], defaults=defaults)\n",
    "    dispatcher = updater.dispatcher\n",
    "    update_rules_messages(updater.bot)\n",
    "\n",
    "    # Note: Order matters!\n",
    "\n",
    "    dispatcher.add_handler(MessageHandler(~Filters.command, rate_limit_tracker), group=-1)\n",
    "    dispatcher.add_handler(\n",
    "        MessageHandler(\n",
    "            Filters.sender_chat.channel & ~Filters.is_automatic_forward, ban_sender_channels\n",
    "        )\n",
    "    )\n",
    "\n",
    "    # Simple commands\n",
    "    # The first one also handles deep linking /start commands\n",
    "    dispatcher.add_handler(CommandHandler(\"start\", start))\n",
    "    dispatcher.add_handler(CommandHandler(\"rules\", rules))\n",
    "    dispatcher.add_handler(CommandHandler(\"docs\", docs))\n",
    "    dispatcher.add_handler(CommandHandler(\"wiki\", wiki))\n",
    "    dispatcher.add_handler(CommandHandler(\"help\", help_callback))\n",
    "\n",
    "    # Stuff that runs on every message with regex\n",
    "    dispatcher.add_handler(\n",
    "        MessageHandler(\n",
    "            Filters.regex(r\"(?i)[\\s\\S]*?((sudo )?make me a sandwich)[\\s\\S]*?\"), sandwich\n",
    "        )\n",
    "    )\n",
    "    dispatcher.add_handler(MessageHandler(Filters.regex(\"/(on|off)_topic\"), off_on_topic))\n",
    "\n",
    "    # Tag hints - works with regex\n",
    "    dispatcher.add_handler(MessageHandler(TagHintFilter(), tag_hint))\n",
    "\n",
    "    # We need several matches so Filters.regex is basically useless\n",
    "    # therefore we catch everything and do regex ourselves\n",
    "    dispatcher.add_handler(\n",
    "        MessageHandler(Filters.text & Filters.update.messages & ~Filters.command, reply_search)\n",
    "    )\n",
    "\n",
    "    # Status updates\n",
    "    dispatcher.add_handler(\n",
    "        ChatMemberHandler(greet_new_chat_members, chat_member_types=ChatMemberHandler.CHAT_MEMBER)\n",
    "    )\n",
    "    dispatcher.add_handler(\n",
    "        MessageHandler(\n",
    "            Filters.chat(username=[ONTOPIC_USERNAME, OFFTOPIC_USERNAME])\n",
    "            & Filters.status_update.new_chat_members,\n",
    "            delete_new_chat_members_message,\n",
    "        ),\n",
    "        group=1,\n",
    "    )\n",
    "\n",
    "    # Inline Queries\n",
    "    dispatcher.add_handler(InlineQueryHandler(inlinequeries.inline_query))\n",
    "\n",
    "    # Captcha for userbots\n",
    "    dispatcher.add_handler(\n",
    "        CommandHandler(\n",
    "            \"say_potato\",\n",
    "            say_potato_command,\n",
    "            filters=Filters.chat(username=[ONTOPIC_USERNAME, OFFTOPIC_USERNAME]),\n",
    "        )\n",
    "    )\n",
    "    dispatcher.add_handler(CallbackQueryHandler(say_potato_button, pattern=\"^POTATO\"))\n",
    "\n",
    "    # Error Handler\n",
    "    dispatcher.add_error_handler(error_handler)\n",
    "\n",
    "    updater.start_polling(allowed_updates=Update.ALL_TYPES)\n",
    "    logger.info(\"Listening...\")\n",
    "\n",
    "    try:\n",
    "        github_issues.set_auth(\n",
    "            config[\"KEYS\"][\"github_client_id\"], config[\"KEYS\"][\"github_client_secret\"]\n",
    "        )\n",
    "    except KeyError:\n",
    "        logging.info(\"No github api token set. Rate-limit is 60 requests/hour without auth.\")\n",
    "\n",
    "    github_issues.init_ptb_contribs(dispatcher.job_queue)  # type: ignore[arg-type]\n",
    "    github_issues.init_issues(dispatcher.job_queue)  # type: ignore[arg-type]\n",
    "\n",
    "    # set commands\n",
    "    updater.bot.set_my_commands(\n",
    "        build_command_list(private=True),\n",
    "        scope=BotCommandScopeAllPrivateChats(),\n",
    "    )\n",
    "    updater.bot.set_my_commands(\n",
    "        build_command_list(private=False),\n",
    "        scope=BotCommandScopeAllGroupChats(),\n",
    "    )\n",
    "\n",
    "    for group_name in [ONTOPIC_CHAT_ID, OFFTOPIC_CHAT_ID]:\n",
    "        updater.bot.set_my_commands(\n",
    "            build_command_list(private=False, group_name=group_name),\n",
    "            scope=BotCommandScopeChat(group_name),\n",
    "        )\n",
    "        updater.bot.set_my_commands(\n",
    "            build_command_list(private=False, group_name=group_name, admins=True),\n",
    "            scope=BotCommandScopeChatAdministrators(group_name),\n",
    "        )\n",
    "\n",
    "    updater.idle()\n",
    "\n",
    "\n",
    "if __name__ == \"__main__\":\n",
    "    main()\n",
    "bot.infinity_polling()"
   ]
  },
  {
   "cell_type": "code",
   "execution_count": null,
   "metadata": {},
   "outputs": [],
   "source": [
    "markup = types.ReplyKeyboardMarkup(row_width=2)\n",
    "itembtn1 = types.KeyboardButton('a')\n",
    "itembtn2 = types.KeyboardButton('v')\n",
    "itembtn3 = types.KeyboardButton('d')\n",
    "markup.add(itembtn1, itembtn2, itembtn3)\n",
    "tb.send_message(chat_id, \"Choose one letter:\", reply_markup=markup)"
   ]
  }
 ],
 "metadata": {
  "interpreter": {
   "hash": "e94f0de3e8068f7a5ad18028c1332ee6ebef6cbbda5ffb4e6df750d0ae4245cb"
  },
  "kernelspec": {
   "display_name": "Python 3.8.13 ('telegramdicti')",
   "language": "python",
   "name": "python3"
  },
  "language_info": {
   "codemirror_mode": {
    "name": "ipython",
    "version": 3
   },
   "file_extension": ".py",
   "mimetype": "text/x-python",
   "name": "python",
   "nbconvert_exporter": "python",
   "pygments_lexer": "ipython3",
   "version": "3.8.13"
  },
  "orig_nbformat": 4
 },
 "nbformat": 4,
 "nbformat_minor": 2
}
