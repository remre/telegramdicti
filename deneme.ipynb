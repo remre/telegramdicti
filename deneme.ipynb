{
 "cells": [
  {
   "cell_type": "markdown",
   "metadata": {},
   "source": [
    "# Telegram Dictionary And Easy Practice NoteBook with google Api"
   ]
  },
  {
   "cell_type": "markdown",
   "metadata": {},
   "source": [
    "here is some expalnation content and executioan part will be seen"
   ]
  },
  {
   "cell_type": "code",
   "execution_count": 2,
   "metadata": {},
   "outputs": [],
   "source": [
    "from googletrans import Translator\n",
    "import requests\n",
    "from bs4 import BeautifulSoup as bs\n",
    "from google.cloud import texttospeech\n",
    "import re\n",
    "from random_word import RandomWords\n",
    "import inflect\n",
    "import pandas\n",
    "import numpy as np"
   ]
  },
  {
   "cell_type": "markdown",
   "metadata": {},
   "source": [
    "dictionary alternative \n",
    "\n"
   ]
  },
  {
   "cell_type": "code",
   "execution_count": 130,
   "metadata": {},
   "outputs": [
    {
     "ename": "ModuleNotFoundError",
     "evalue": "No module named 'PyDictionary'",
     "output_type": "error",
     "traceback": [
      "\u001b[1;31m---------------------------------------------------------------------------\u001b[0m",
      "\u001b[1;31mModuleNotFoundError\u001b[0m                       Traceback (most recent call last)",
      "\u001b[1;32mc:\\Users\\emreb\\Documents\\projects\\telegramdicti\\deneme.ipynb Cell 5'\u001b[0m in \u001b[0;36m<cell line: 1>\u001b[1;34m()\u001b[0m\n\u001b[1;32m----> <a href='vscode-notebook-cell:/c%3A/Users/emreb/Documents/projects/telegramdicti/deneme.ipynb#ch0000031?line=0'>1</a>\u001b[0m \u001b[39mfrom\u001b[39;00m \u001b[39mPyDictionary\u001b[39;00m \u001b[39mimport\u001b[39;00m PyDictionary\n\u001b[0;32m      <a href='vscode-notebook-cell:/c%3A/Users/emreb/Documents/projects/telegramdicti/deneme.ipynb#ch0000031?line=1'>2</a>\u001b[0m dictionary\u001b[39m=\u001b[39mPyDictionary()\n\u001b[0;32m      <a href='vscode-notebook-cell:/c%3A/Users/emreb/Documents/projects/telegramdicti/deneme.ipynb#ch0000031?line=2'>3</a>\u001b[0m \u001b[39mprint\u001b[39m (dictionary\u001b[39m.\u001b[39mmeaning(\u001b[39m\"\u001b[39m\u001b[39mindentation\u001b[39m\u001b[39m\"\u001b[39m))\n",
      "\u001b[1;31mModuleNotFoundError\u001b[0m: No module named 'PyDictionary'"
     ]
    }
   ],
   "source": [
    "from PyDictionary import PyDictionary\n",
    "dictionary=PyDictionary()\n",
    "print (dictionary.meaning(\"indentation\"))"
   ]
  },
  {
   "cell_type": "markdown",
   "metadata": {},
   "source": [
    "## Dictionary scraping merriam webster"
   ]
  },
  {
   "cell_type": "code",
   "execution_count": 2,
   "metadata": {},
   "outputs": [],
   "source": [
    "def dictionary():\n",
    "    url_merriam = 'https://www.merriam-webster.com/dictionary/'\n",
    "    word = input('Enter a word: ')\n",
    "    page = requests.get(url_merriam+ word)\n",
    "    soup = bs(page.content, 'html.parser')\n",
    "    m = soup.find_all('span', class_='dtText')[:3]\n",
    "    \n",
    "    if m == []:\n",
    "        m = soup.find('p',class_='spelling-suggestion-text')\n",
    "        return m.text\n",
    "    else:\n",
    "        return [c.text.split(':')[1] for c in m]\n"
   ]
  },
  {
   "cell_type": "code",
   "execution_count": 88,
   "metadata": {},
   "outputs": [
    {
     "data": {
      "text/plain": [
       "\"\\n        The word you've entered isn't in the dictionary. Click on a spelling suggestion below or try again using the search bar above.    \""
      ]
     },
     "execution_count": 88,
     "metadata": {},
     "output_type": "execute_result"
    }
   ],
   "source": [
    "dictionary()"
   ]
  },
  {
   "cell_type": "code",
   "execution_count": 45,
   "metadata": {},
   "outputs": [],
   "source": [
    "translator = Translator()"
   ]
  },
  {
   "cell_type": "code",
   "execution_count": 46,
   "metadata": {},
   "outputs": [],
   "source": [
    "result = translator.translate('merhaba')"
   ]
  },
  {
   "cell_type": "code",
   "execution_count": 47,
   "metadata": {},
   "outputs": [
    {
     "data": {
      "text/plain": [
       "'Hello there'"
      ]
     },
     "execution_count": 47,
     "metadata": {},
     "output_type": "execute_result"
    }
   ],
   "source": [
    "result.text "
   ]
  },
  {
   "cell_type": "code",
   "execution_count": 65,
   "metadata": {},
   "outputs": [],
   "source": [
    "def create_audio(text,src,dest):\n",
    "\n",
    "  translator = Translator()\n",
    "  result = translator.translate(text, src=src, dest=dest)\n",
    "  # Instantiates a client\n",
    "  client = texttospeech.TextToSpeechClient()\n",
    "\n",
    "  # Set the text input to be synthesized\n",
    "  synthesis_input = texttospeech.SynthesisInput(text=result.text)\n",
    "\n",
    "  # Build the voice request, select the language code (\"en-US\") and the ssml\n",
    "  # voice gender (\"neutral\")\n",
    "  voice = texttospeech.VoiceSelectionParams(\n",
    "    language_code= dest,\n",
    "    ssml_gender=texttospeech.SsmlVoiceGender.NEUTRAL,)\n",
    "\n",
    "  # Select the type of audio file you want returned\n",
    "  audio_config = texttospeech.AudioConfig(\n",
    "    audio_encoding=texttospeech.AudioEncoding.MP3)\n",
    "\n",
    "  # Perform the text-to-speech request on the text input with the selected\n",
    "  # voice parameters and audio file type\n",
    "  response = client.synthesize_speech(\n",
    "        request={\"input\": synthesis_input, \"voice\": voice, \"audio_config\": audio_config}\n",
    "    )\n",
    "\n",
    "  # The response's audio_content is binary.\n",
    "  with open(f'audio/{result.text}.mp3', 'wb') as out:\n",
    "    # Write the response to the output file.\n",
    "    out.write(response.audio_content)\n",
    "  return result.text"
   ]
  },
  {
   "cell_type": "code",
   "execution_count": 67,
   "metadata": {},
   "outputs": [],
   "source": [
    "# src and dest are the languages that user need to give as input and make it with selectbox in telegram somehow\n",
    "audiotranslater = create_audio('how are you','en','de')"
   ]
  },
  {
   "cell_type": "code",
   "execution_count": 68,
   "metadata": {},
   "outputs": [
    {
     "data": {
      "text/plain": [
       "'Wie geht es dir'"
      ]
     },
     "execution_count": 68,
     "metadata": {},
     "output_type": "execute_result"
    }
   ],
   "source": [
    "audiotranslater"
   ]
  },
  {
   "cell_type": "code",
   "execution_count": 83,
   "metadata": {},
   "outputs": [],
   "source": [
    "def create_audio_number(number,src,dest):\n",
    "\n",
    "  translator = Translator()\n",
    "  p = inflect.engine()\n",
    "  number = p.number_to_words(number)\n",
    "  result = translator.translate(number, src=src, dest=dest)\n",
    "  # Instantiates a client\n",
    "  client = texttospeech.TextToSpeechClient()\n",
    " \n",
    "  # Set the text input to be synthesized\n",
    "  synthesis_input = texttospeech.SynthesisInput(text=result.text)\n",
    "  \n",
    "  # Build the voice request, select the language code (\"en-US\") and the ssml\n",
    "  # voice gender (\"neutral\")\n",
    "  voice = texttospeech.VoiceSelectionParams(\n",
    "    language_code= dest,\n",
    "    ssml_gender=texttospeech.SsmlVoiceGender.NEUTRAL,)\n",
    "\n",
    "  # Select the type of audio file you want returned\n",
    "  audio_config = texttospeech.AudioConfig(\n",
    "    audio_encoding=texttospeech.AudioEncoding.MP3)\n",
    "\n",
    "  # Perform the text-to-speech request on the text input with the selected\n",
    "  # voice parameters and audio file type\n",
    "  response = client.synthesize_speech(\n",
    "        request={\"input\": synthesis_input, \"voice\": voice, \"audio_config\": audio_config}\n",
    "    )\n",
    "\n",
    "  # The response's audio_content is binary.\n",
    "  with open(f'audio/{result.text}.mp3', 'wb') as out:\n",
    "    # Write the response to the output file.\n",
    "    out.write(response.audio_content)\n",
    "    \n",
    "    \n",
    "    \n",
    "    return result.text"
   ]
  },
  {
   "cell_type": "code",
   "execution_count": 84,
   "metadata": {},
   "outputs": [],
   "source": [
    "# number exerciser\n",
    "# if user choose level 1 k will be 1 \n",
    "level = input('what is the level of your number exercise:1/2/3 ')\n",
    "if level == '1':\n",
    "    k = np.random.randint(1,100)\n",
    "if level == '2':\n",
    "    k = np.random.randint(100,1000)\n",
    "if level == '3':\n",
    "    k = np.random.randint(1000,1000000)\n",
    "    \n",
    "numberpractice= create_audio_number(f\"{k}\",'en','de')"
   ]
  },
  {
   "cell_type": "code",
   "execution_count": 85,
   "metadata": {},
   "outputs": [
    {
     "data": {
      "text/plain": [
       "'vierzig'"
      ]
     },
     "execution_count": 85,
     "metadata": {},
     "output_type": "execute_result"
    }
   ],
   "source": [
    "numberpractice "
   ]
  },
  {
   "cell_type": "code",
   "execution_count": 80,
   "metadata": {},
   "outputs": [],
   "source": [
    "def create_audio_word(src,dest):\n",
    "\n",
    "  translator = Translator()\n",
    "  r = RandomWords()\n",
    "  word = r.get_random_word()\n",
    "  result = translator.translate(word, src=src, dest=dest)\n",
    "  # Instantiates a client\n",
    "  client = texttospeech.TextToSpeechClient()\n",
    " \n",
    "  # Set the text input to be synthesized\n",
    "  synthesis_input = texttospeech.SynthesisInput(text=result.text)\n",
    "  \n",
    "  # Build the voice request, select the language code (\"en-US\") and the ssml\n",
    "  # voice gender (\"neutral\")\n",
    "  voice = texttospeech.VoiceSelectionParams(\n",
    "    language_code= dest,\n",
    "    ssml_gender=texttospeech.SsmlVoiceGender.NEUTRAL,)\n",
    "\n",
    "  # Select the type of audio file you want returned\n",
    "  audio_config = texttospeech.AudioConfig(\n",
    "    audio_encoding=texttospeech.AudioEncoding.MP3)\n",
    "\n",
    "  # Perform the text-to-speech request on the text input with the selected\n",
    "  # voice parameters and audio file type\n",
    "  response = client.synthesize_speech(\n",
    "        request={\"input\": synthesis_input, \"voice\": voice, \"audio_config\": audio_config}\n",
    "    )\n",
    "\n",
    "  # The response's audio_content is binary.\n",
    "  with open(f'audio/{result.text}.mp3', 'wb') as out:\n",
    "    # Write the response to the output file.\n",
    "    out.write(response.audio_content)\n",
    "    \n",
    "    \n",
    "    \n",
    "  return result.text,word\n"
   ]
  },
  {
   "cell_type": "code",
   "execution_count": 81,
   "metadata": {},
   "outputs": [],
   "source": [
    "wordgeneretaed,enword= create_audio_word('en','de')"
   ]
  },
  {
   "cell_type": "code",
   "execution_count": 3,
   "metadata": {},
   "outputs": [],
   "source": [
    "r = RandomWords()\n"
   ]
  },
  {
   "cell_type": "code",
   "execution_count": 13,
   "metadata": {},
   "outputs": [
    {
     "data": {
      "text/plain": [
       "'Celan'"
      ]
     },
     "execution_count": 13,
     "metadata": {},
     "output_type": "execute_result"
    }
   ],
   "source": [
    "import random\n",
    "(random.choice(['Celan','Dirty']))"
   ]
  },
  {
   "cell_type": "code",
   "execution_count": 8,
   "metadata": {},
   "outputs": [
    {
     "data": {
      "text/plain": [
       "['snarl',\n",
       " 'liquate',\n",
       " 'laicize',\n",
       " 'electropositive',\n",
       " 'geosynchronous',\n",
       " 'viewing',\n",
       " 'electioneering',\n",
       " 'confidentiality',\n",
       " 'vacuole',\n",
       " 'inexcusably']"
      ]
     },
     "execution_count": 8,
     "metadata": {},
     "output_type": "execute_result"
    }
   ],
   "source": [
    "r.get_random_words(hasDictionaryDef=\"true\", limit=10,  minDictionaryCount=3)"
   ]
  },
  {
   "cell_type": "markdown",
   "metadata": {},
   "source": []
  },
  {
   "cell_type": "markdown",
   "metadata": {},
   "source": [
    "- src: The source language\n",
    "- dest: Destination language, which is set to English (en)\n",
    "- origin: Original text, that is 'Mitä sinä teet' in our example\n",
    "- text: Translated text, that will be 'what are you doing?' in our case\n",
    "- pronunciation: Pronunciation of the translated text"
   ]
  },
  {
   "cell_type": "code",
   "execution_count": 129,
   "metadata": {},
   "outputs": [
    {
     "data": {
      "text/plain": [
       "'{\"word\": \"falsidical\", \"definations\": [{\"source\": \"century\", \"text\": \"Expressing falsehood; falsifying: opposed to veridical.\", \"note\": null, \"partOfSpeech\": \"adjective\"}, {\"source\": \"wiktionary\", \"text\": \"Having a false basis.\", \"note\": null, \"partOfSpeech\": \"adjective\"}]}'"
      ]
     },
     "execution_count": 129,
     "metadata": {},
     "output_type": "execute_result"
    }
   ],
   "source": [
    "r.word_of_the_day()"
   ]
  },
  {
   "cell_type": "code",
   "execution_count": 8,
   "metadata": {},
   "outputs": [],
   "source": [
    "import os\n",
    "os.environ[\"GOOGLE_APPLICATION_CREDENTIALS\"]='C:/Users/emreb/Documents/projects/secret/projecttelebotapi-cafc88105725.json'"
   ]
  },
  {
   "cell_type": "code",
   "execution_count": 20,
   "metadata": {},
   "outputs": [],
   "source": [
    "m = {(x,y): random.choice(['Clean', 'Dirty']) for x in range(10) for y in range(10)}"
   ]
  },
  {
   "cell_type": "code",
   "execution_count": 27,
   "metadata": {},
   "outputs": [
    {
     "name": "stdout",
     "output_type": "stream",
     "text": [
      "gowork\n"
     ]
    }
   ],
   "source": [
    "a = 'gowork' if any(m.values()) != 'Dirty' else 'go home'\n",
    "print(a)"
   ]
  },
  {
   "cell_type": "code",
   "execution_count": 32,
   "metadata": {},
   "outputs": [
    {
     "ename": "SyntaxError",
     "evalue": "invalid syntax (2017815246.py, line 3)",
     "output_type": "error",
     "traceback": [
      "\u001b[1;36m  Input \u001b[1;32mIn [32]\u001b[1;36m\u001b[0m\n\u001b[1;33m    [m[(x,y)] = 'Clean' for x in range(10) for y in range(10)]\u001b[0m\n\u001b[1;37m              ^\u001b[0m\n\u001b[1;31mSyntaxError\u001b[0m\u001b[1;31m:\u001b[0m invalid syntax\n"
     ]
    }
   ],
   "source": [
    "if 'Dirty' in m.values():\n",
    "    print('go home')\n",
    "    \n"
   ]
  },
  {
   "cell_type": "code",
   "execution_count": 33,
   "metadata": {},
   "outputs": [],
   "source": [
    "if all(value == 'Dirty' for value in m.values()):\n",
    "    print('go home')"
   ]
  },
  {
   "cell_type": "code",
   "execution_count": null,
   "metadata": {},
   "outputs": [],
   "source": [
    "def translatetext(text, src, dest):\n",
    "    translator = Translator()\n",
    "    result = translator.translate(text, src=src, dest=dest)\n",
    "    return result.text"
   ]
  },
  {
   "cell_type": "code",
   "execution_count": 36,
   "metadata": {},
   "outputs": [],
   "source": [
    "import telebot\n",
    "from telegram.ext import Updater, CommandHandler\n",
    "import logging\n",
    "from telebot import types\n"
   ]
  },
  {
   "cell_type": "code",
   "execution_count": 39,
   "metadata": {},
   "outputs": [
    {
     "name": "stderr",
     "output_type": "stream",
     "text": [
      "2022-04-26 03:33:37,613 (__init__.py:579 MainThread) ERROR - TeleBot: \"Infinity polling: polling exited\"\n",
      "2022-04-26 03:33:37,615 (__init__.py:581 MainThread) ERROR - TeleBot: \"Break infinity polling\"\n"
     ]
    }
   ],
   "source": [
    "bot = telebot.TeleBot(\"5388005230:AAELiP2zUSkHlGNp6txQbHrB8_WYnaZxTZ4\")\n",
    "logging.basicConfig(level=logging.DEBUG,\n",
    "                    format='%(levelname)s - %(message)s')\n",
    "logger = logging.getLogger()\n",
    "logger.setLevel(logging.ERROR)\n",
    "@bot.message_handler(commands=['start', 'help'])\n",
    "def send_welcome(message):\n",
    "\tbot.reply_to(message, \"Howdy, how are you doing?\")\n",
    "@bot.message_handler(commands = ['practice', 'dictionary', 'translate',], content_types=['text','number','voice'])\n",
    "def default_message_handler(message):\n",
    "    if message.new_chat_member or not message.text:\n",
    "        return\n",
    "@bot.message_handler(func=lambda message: True)\n",
    "def echo_all(message):\n",
    "\t# bot.reply_to(message, message.text)\n",
    "    markup = types.ReplyKeyboardMarkup(row_width=2)\n",
    "    itembtn1 = types.KeyboardButton('de')\n",
    "    itembtn2 = types.KeyboardButton('en')\n",
    "    itembtn3 = types.KeyboardButton('es')\n",
    "    itembtn4 = types.KeyboardButton('tr')\n",
    "    itembtn5 = types.KeyboardButton('fr')\n",
    "    itembtn6 = types.KeyboardButton('it')\n",
    "    markup.add(itembtn1, itembtn2, itembtn3)\n",
    "    # bot.send_message(message.chat.id, \"Choose:\", reply_markup=markup)\n",
    "    bot.send_message(message.chat.id, \"Choose one letter:\", reply_markup=markup)\n",
    "bot.infinity_polling()"
   ]
  },
  {
   "cell_type": "code",
   "execution_count": null,
   "metadata": {},
   "outputs": [],
   "source": [
    "markup = types.ReplyKeyboardMarkup(row_width=2)\n",
    "itembtn1 = types.KeyboardButton('a')\n",
    "itembtn2 = types.KeyboardButton('v')\n",
    "itembtn3 = types.KeyboardButton('d')\n",
    "markup.add(itembtn1, itembtn2, itembtn3)\n",
    "tb.send_message(chat_id, \"Choose one letter:\", reply_markup=markup)"
   ]
  }
 ],
 "metadata": {
  "interpreter": {
   "hash": "e94f0de3e8068f7a5ad18028c1332ee6ebef6cbbda5ffb4e6df750d0ae4245cb"
  },
  "kernelspec": {
   "display_name": "Python 3.8.13 ('telegramdicti')",
   "language": "python",
   "name": "python3"
  },
  "language_info": {
   "codemirror_mode": {
    "name": "ipython",
    "version": 3
   },
   "file_extension": ".py",
   "mimetype": "text/x-python",
   "name": "python",
   "nbconvert_exporter": "python",
   "pygments_lexer": "ipython3",
   "version": "3.8.13"
  },
  "orig_nbformat": 4
 },
 "nbformat": 4,
 "nbformat_minor": 2
}
